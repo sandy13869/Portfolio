{
 "cells": [
  {
   "cell_type": "code",
   "execution_count": 17,
   "metadata": {},
   "outputs": [
    {
     "name": "stdout",
     "output_type": "stream",
     "text": [
      "City Name :Mumbai\n",
      "{'type': 1, 'id': 9052, 'message': 0.0067, 'country': 'IN', 'sunrise': 1551490036, 'sunset': 1551532468}\n"
     ]
    }
   ],
   "source": [
    "import requests\n",
    "\n",
    "# Work Api code work = 0c42f7f6b53b244c78a418f4f181282a\n",
    "\n",
    "# http://api.openweathermap.org/data/2.5/weather?appid=0c42f7f6b53b244c78a418f4f181282a&q=Mumbai\n",
    "\n",
    "api_address='http://api.openweathermap.org/data/2.5/weather?appid=0c42f7f6b53b244c78a418f4f181282a&q='\n",
    "city = input('City Name :')\n",
    "url = api_address + city\n",
    "json_data = requests.get(url).json()\n",
    "format_add = json_data['sys']\n",
    "print(format_add)"
   ]
  },
  {
   "cell_type": "code",
   "execution_count": null,
   "metadata": {},
   "outputs": [],
   "source": []
  }
 ],
 "metadata": {
  "kernelspec": {
   "display_name": "Python 3",
   "language": "python",
   "name": "python3"
  },
  "language_info": {
   "codemirror_mode": {
    "name": "ipython",
    "version": 3
   },
   "file_extension": ".py",
   "mimetype": "text/x-python",
   "name": "python",
   "nbconvert_exporter": "python",
   "pygments_lexer": "ipython3",
   "version": "3.6.5"
  }
 },
 "nbformat": 4,
 "nbformat_minor": 2
}
