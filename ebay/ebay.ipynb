{
 "cells": [
  {
   "cell_type": "markdown",
   "metadata": {},
   "source": [
    "##### The datasets are from a companion website for the book Modeling Online Auctions, by Wolfgang Jank and Galit Shmueli (Wiley and Sons, ISBN: 978-0-470-47565-2, July 2010)."
   ]
  },
  {
   "cell_type": "markdown",
   "metadata": {},
   "source": [
    "## Goal for the analysis:\n",
    "### Find out the relationship between bids, auction type and open bid. Does this differ by type of items?"
   ]
  },
  {
   "cell_type": "code",
   "execution_count": 2,
   "metadata": {},
   "outputs": [],
   "source": [
    "%matplotlib inline \n",
    "\n",
    "import pandas as pd             # data package\n",
    "import matplotlib.pyplot as plt # graphics \n",
    "import seaborn as sns           # graphics \n",
    "import datetime as dt           # date tools, used to note current date  \n",
    "import numpy as np\n",
    "from scipy import stats"
   ]
  },
  {
   "cell_type": "markdown",
   "metadata": {},
   "source": [
    "### Read csv file "
   ]
  },
  {
   "cell_type": "code",
   "execution_count": 3,
   "metadata": {},
   "outputs": [
    {
     "data": {
      "text/html": [
       "<div>\n",
       "<style scoped>\n",
       "    .dataframe tbody tr th:only-of-type {\n",
       "        vertical-align: middle;\n",
       "    }\n",
       "\n",
       "    .dataframe tbody tr th {\n",
       "        vertical-align: top;\n",
       "    }\n",
       "\n",
       "    .dataframe thead th {\n",
       "        text-align: right;\n",
       "    }\n",
       "</style>\n",
       "<table border=\"1\" class=\"dataframe\">\n",
       "  <thead>\n",
       "    <tr style=\"text-align: right;\">\n",
       "      <th></th>\n",
       "      <th>auctionid</th>\n",
       "      <th>bid</th>\n",
       "      <th>bidtime</th>\n",
       "      <th>bidder</th>\n",
       "      <th>bidderrate</th>\n",
       "      <th>openbid</th>\n",
       "      <th>price</th>\n",
       "      <th>item</th>\n",
       "      <th>auction_type</th>\n",
       "    </tr>\n",
       "  </thead>\n",
       "  <tbody>\n",
       "    <tr>\n",
       "      <th>0</th>\n",
       "      <td>1638893549</td>\n",
       "      <td>175.0</td>\n",
       "      <td>2.230949</td>\n",
       "      <td>schadenfreud</td>\n",
       "      <td>0.0</td>\n",
       "      <td>99.0</td>\n",
       "      <td>177.5</td>\n",
       "      <td>Cartier wristwatch</td>\n",
       "      <td>3 day auction</td>\n",
       "    </tr>\n",
       "    <tr>\n",
       "      <th>1</th>\n",
       "      <td>1638893549</td>\n",
       "      <td>100.0</td>\n",
       "      <td>2.600116</td>\n",
       "      <td>chuik</td>\n",
       "      <td>0.0</td>\n",
       "      <td>99.0</td>\n",
       "      <td>177.5</td>\n",
       "      <td>Cartier wristwatch</td>\n",
       "      <td>3 day auction</td>\n",
       "    </tr>\n",
       "    <tr>\n",
       "      <th>2</th>\n",
       "      <td>1638893549</td>\n",
       "      <td>120.0</td>\n",
       "      <td>2.600810</td>\n",
       "      <td>kiwisstuff</td>\n",
       "      <td>2.0</td>\n",
       "      <td>99.0</td>\n",
       "      <td>177.5</td>\n",
       "      <td>Cartier wristwatch</td>\n",
       "      <td>3 day auction</td>\n",
       "    </tr>\n",
       "    <tr>\n",
       "      <th>3</th>\n",
       "      <td>1638893549</td>\n",
       "      <td>150.0</td>\n",
       "      <td>2.601076</td>\n",
       "      <td>kiwisstuff</td>\n",
       "      <td>2.0</td>\n",
       "      <td>99.0</td>\n",
       "      <td>177.5</td>\n",
       "      <td>Cartier wristwatch</td>\n",
       "      <td>3 day auction</td>\n",
       "    </tr>\n",
       "    <tr>\n",
       "      <th>4</th>\n",
       "      <td>1638893549</td>\n",
       "      <td>177.5</td>\n",
       "      <td>2.909826</td>\n",
       "      <td>eli.flint@flightsafety.co</td>\n",
       "      <td>4.0</td>\n",
       "      <td>99.0</td>\n",
       "      <td>177.5</td>\n",
       "      <td>Cartier wristwatch</td>\n",
       "      <td>3 day auction</td>\n",
       "    </tr>\n",
       "  </tbody>\n",
       "</table>\n",
       "</div>"
      ],
      "text/plain": [
       "    auctionid    bid   bidtime                     bidder  bidderrate  \\\n",
       "0  1638893549  175.0  2.230949               schadenfreud         0.0   \n",
       "1  1638893549  100.0  2.600116                      chuik         0.0   \n",
       "2  1638893549  120.0  2.600810                 kiwisstuff         2.0   \n",
       "3  1638893549  150.0  2.601076                 kiwisstuff         2.0   \n",
       "4  1638893549  177.5  2.909826  eli.flint@flightsafety.co         4.0   \n",
       "\n",
       "   openbid  price                item   auction_type  \n",
       "0     99.0  177.5  Cartier wristwatch  3 day auction  \n",
       "1     99.0  177.5  Cartier wristwatch  3 day auction  \n",
       "2     99.0  177.5  Cartier wristwatch  3 day auction  \n",
       "3     99.0  177.5  Cartier wristwatch  3 day auction  \n",
       "4     99.0  177.5  Cartier wristwatch  3 day auction  "
      ]
     },
     "execution_count": 3,
     "metadata": {},
     "output_type": "execute_result"
    }
   ],
   "source": [
    "\n",
    "auction=pd.read_csv(\"auction.csv\")\n",
    "auction.head()\n"
   ]
  },
  {
   "cell_type": "code",
   "execution_count": 4,
   "metadata": {},
   "outputs": [
    {
     "name": "stdout",
     "output_type": "stream",
     "text": [
      "<class 'pandas.core.frame.DataFrame'>\n",
      "RangeIndex: 10681 entries, 0 to 10680\n",
      "Data columns (total 9 columns):\n",
      "auctionid       10681 non-null int64\n",
      "bid             10681 non-null float64\n",
      "bidtime         10681 non-null float64\n",
      "bidder          10665 non-null object\n",
      "bidderrate      10670 non-null float64\n",
      "openbid         10681 non-null float64\n",
      "price           10681 non-null float64\n",
      "item            10681 non-null object\n",
      "auction_type    10681 non-null object\n",
      "dtypes: float64(5), int64(1), object(3)\n",
      "memory usage: 751.1+ KB\n"
     ]
    }
   ],
   "source": [
    "auction.info()"
   ]
  },
  {
   "cell_type": "code",
   "execution_count": 5,
   "metadata": {},
   "outputs": [
    {
     "data": {
      "text/plain": [
       "(10681, 9)"
      ]
     },
     "execution_count": 5,
     "metadata": {},
     "output_type": "execute_result"
    }
   ],
   "source": [
    "auction.shape"
   ]
  },
  {
   "cell_type": "code",
   "execution_count": 6,
   "metadata": {},
   "outputs": [
    {
     "data": {
      "text/plain": [
       "auctionid         int64\n",
       "bid             float64\n",
       "bidtime         float64\n",
       "bidder           object\n",
       "bidderrate      float64\n",
       "openbid         float64\n",
       "price           float64\n",
       "item             object\n",
       "auction_type     object\n",
       "dtype: object"
      ]
     },
     "execution_count": 6,
     "metadata": {},
     "output_type": "execute_result"
    }
   ],
   "source": [
    "auction.dtypes"
   ]
  },
  {
   "cell_type": "markdown",
   "metadata": {},
   "source": [
    "#### The data set includes 10681 observations and 9 variables\n",
    "\n",
    "## Part 1 Understand eBay auction policy\n",
    "### It's important to understand how eBay auction policy works before conducting further analysis. I found this explanation easy to understand.\n",
    "\n",
    ">The website helps to answer the following questions:\n",
    "\n",
    "### What's the relationship between bids and bidtime? \n",
    ">Poeple have to bid higher than current price, which is the second highest bid+increment. If someone places a bid much higher than current price, eBay will only use part of his/her bid(second highest bid+increment) as the new current price. People can bid as long as their bid is higher than current price. Therefore, as bidtime increases, we sometimes see bids that are lower than previous bids. People will be notified when they are outbid, so they may increase their max bids to remain the higher bidder.\n",
    "\n",
    "### What's the relationship between bids and closing price? \n",
    ">Closing price=second highest bid+increment or highest bid in some cases when second highest bid+increment is greater than the thrid highest bid. For example, if third highest bid is 8 and second highest bid is 10, you can bid 10.01 and if no one's bid is higher than yours, you get the item by paying 10.01 instead of 10+increment(which is 10.5)\n",
    "\n",
    "### Person who placed the highest bid gets the item but how much he/she needs to pay in most cases depends on the second highest bid."
   ]
  },
  {
   "cell_type": "code",
   "execution_count": 7,
   "metadata": {},
   "outputs": [
    {
     "data": {
      "text/html": [
       "<div>\n",
       "<style scoped>\n",
       "    .dataframe tbody tr th:only-of-type {\n",
       "        vertical-align: middle;\n",
       "    }\n",
       "\n",
       "    .dataframe tbody tr th {\n",
       "        vertical-align: top;\n",
       "    }\n",
       "\n",
       "    .dataframe thead th {\n",
       "        text-align: right;\n",
       "    }\n",
       "</style>\n",
       "<table border=\"1\" class=\"dataframe\">\n",
       "  <thead>\n",
       "    <tr style=\"text-align: right;\">\n",
       "      <th></th>\n",
       "      <th>auctionid</th>\n",
       "      <th>bid</th>\n",
       "      <th>bidtime</th>\n",
       "      <th>bidder</th>\n",
       "      <th>bidderrate</th>\n",
       "      <th>openbid</th>\n",
       "      <th>price</th>\n",
       "      <th>item</th>\n",
       "      <th>auction_type</th>\n",
       "    </tr>\n",
       "  </thead>\n",
       "  <tbody>\n",
       "    <tr>\n",
       "      <th>0</th>\n",
       "      <td>1638893549</td>\n",
       "      <td>175.0</td>\n",
       "      <td>2.230949</td>\n",
       "      <td>schadenfreud</td>\n",
       "      <td>0.0</td>\n",
       "      <td>99.0</td>\n",
       "      <td>177.5</td>\n",
       "      <td>Cartier wristwatch</td>\n",
       "      <td>3 day auction</td>\n",
       "    </tr>\n",
       "    <tr>\n",
       "      <th>1</th>\n",
       "      <td>1638893549</td>\n",
       "      <td>100.0</td>\n",
       "      <td>2.600116</td>\n",
       "      <td>chuik</td>\n",
       "      <td>0.0</td>\n",
       "      <td>99.0</td>\n",
       "      <td>177.5</td>\n",
       "      <td>Cartier wristwatch</td>\n",
       "      <td>3 day auction</td>\n",
       "    </tr>\n",
       "    <tr>\n",
       "      <th>2</th>\n",
       "      <td>1638893549</td>\n",
       "      <td>120.0</td>\n",
       "      <td>2.600810</td>\n",
       "      <td>kiwisstuff</td>\n",
       "      <td>2.0</td>\n",
       "      <td>99.0</td>\n",
       "      <td>177.5</td>\n",
       "      <td>Cartier wristwatch</td>\n",
       "      <td>3 day auction</td>\n",
       "    </tr>\n",
       "    <tr>\n",
       "      <th>3</th>\n",
       "      <td>1638893549</td>\n",
       "      <td>150.0</td>\n",
       "      <td>2.601076</td>\n",
       "      <td>kiwisstuff</td>\n",
       "      <td>2.0</td>\n",
       "      <td>99.0</td>\n",
       "      <td>177.5</td>\n",
       "      <td>Cartier wristwatch</td>\n",
       "      <td>3 day auction</td>\n",
       "    </tr>\n",
       "    <tr>\n",
       "      <th>4</th>\n",
       "      <td>1638893549</td>\n",
       "      <td>177.5</td>\n",
       "      <td>2.909826</td>\n",
       "      <td>eli.flint@flightsafety.co</td>\n",
       "      <td>4.0</td>\n",
       "      <td>99.0</td>\n",
       "      <td>177.5</td>\n",
       "      <td>Cartier wristwatch</td>\n",
       "      <td>3 day auction</td>\n",
       "    </tr>\n",
       "  </tbody>\n",
       "</table>\n",
       "</div>"
      ],
      "text/plain": [
       "    auctionid    bid   bidtime                     bidder  bidderrate  \\\n",
       "0  1638893549  175.0  2.230949               schadenfreud         0.0   \n",
       "1  1638893549  100.0  2.600116                      chuik         0.0   \n",
       "2  1638893549  120.0  2.600810                 kiwisstuff         2.0   \n",
       "3  1638893549  150.0  2.601076                 kiwisstuff         2.0   \n",
       "4  1638893549  177.5  2.909826  eli.flint@flightsafety.co         4.0   \n",
       "\n",
       "   openbid  price                item   auction_type  \n",
       "0     99.0  177.5  Cartier wristwatch  3 day auction  \n",
       "1     99.0  177.5  Cartier wristwatch  3 day auction  \n",
       "2     99.0  177.5  Cartier wristwatch  3 day auction  \n",
       "3     99.0  177.5  Cartier wristwatch  3 day auction  \n",
       "4     99.0  177.5  Cartier wristwatch  3 day auction  "
      ]
     },
     "execution_count": 7,
     "metadata": {},
     "output_type": "execute_result"
    }
   ],
   "source": [
    "auction.head()"
   ]
  },
  {
   "cell_type": "code",
   "execution_count": 8,
   "metadata": {},
   "outputs": [],
   "source": [
    "auction4=auction[['auctionid','bid','price','auction_type']]"
   ]
  },
  {
   "cell_type": "code",
   "execution_count": 9,
   "metadata": {},
   "outputs": [
    {
     "data": {
      "text/html": [
       "<div>\n",
       "<style scoped>\n",
       "    .dataframe tbody tr th:only-of-type {\n",
       "        vertical-align: middle;\n",
       "    }\n",
       "\n",
       "    .dataframe tbody tr th {\n",
       "        vertical-align: top;\n",
       "    }\n",
       "\n",
       "    .dataframe thead th {\n",
       "        text-align: right;\n",
       "    }\n",
       "</style>\n",
       "<table border=\"1\" class=\"dataframe\">\n",
       "  <thead>\n",
       "    <tr style=\"text-align: right;\">\n",
       "      <th></th>\n",
       "      <th>auctionid</th>\n",
       "      <th>bid</th>\n",
       "      <th>price</th>\n",
       "      <th>auction_type</th>\n",
       "    </tr>\n",
       "  </thead>\n",
       "  <tbody>\n",
       "    <tr>\n",
       "      <th>0</th>\n",
       "      <td>1638893549</td>\n",
       "      <td>175.0</td>\n",
       "      <td>177.5</td>\n",
       "      <td>3 day auction</td>\n",
       "    </tr>\n",
       "    <tr>\n",
       "      <th>1</th>\n",
       "      <td>1638893549</td>\n",
       "      <td>100.0</td>\n",
       "      <td>177.5</td>\n",
       "      <td>3 day auction</td>\n",
       "    </tr>\n",
       "    <tr>\n",
       "      <th>2</th>\n",
       "      <td>1638893549</td>\n",
       "      <td>120.0</td>\n",
       "      <td>177.5</td>\n",
       "      <td>3 day auction</td>\n",
       "    </tr>\n",
       "    <tr>\n",
       "      <th>3</th>\n",
       "      <td>1638893549</td>\n",
       "      <td>150.0</td>\n",
       "      <td>177.5</td>\n",
       "      <td>3 day auction</td>\n",
       "    </tr>\n",
       "    <tr>\n",
       "      <th>4</th>\n",
       "      <td>1638893549</td>\n",
       "      <td>177.5</td>\n",
       "      <td>177.5</td>\n",
       "      <td>3 day auction</td>\n",
       "    </tr>\n",
       "  </tbody>\n",
       "</table>\n",
       "</div>"
      ],
      "text/plain": [
       "    auctionid    bid  price   auction_type\n",
       "0  1638893549  175.0  177.5  3 day auction\n",
       "1  1638893549  100.0  177.5  3 day auction\n",
       "2  1638893549  120.0  177.5  3 day auction\n",
       "3  1638893549  150.0  177.5  3 day auction\n",
       "4  1638893549  177.5  177.5  3 day auction"
      ]
     },
     "execution_count": 9,
     "metadata": {},
     "output_type": "execute_result"
    }
   ],
   "source": [
    "auction4.head()"
   ]
  },
  {
   "cell_type": "code",
   "execution_count": 10,
   "metadata": {},
   "outputs": [],
   "source": [
    "closing_price = auction4.groupby(['auctionid']).last()"
   ]
  },
  {
   "cell_type": "code",
   "execution_count": 11,
   "metadata": {},
   "outputs": [
    {
     "data": {
      "text/html": [
       "<div>\n",
       "<style scoped>\n",
       "    .dataframe tbody tr th:only-of-type {\n",
       "        vertical-align: middle;\n",
       "    }\n",
       "\n",
       "    .dataframe tbody tr th {\n",
       "        vertical-align: top;\n",
       "    }\n",
       "\n",
       "    .dataframe thead th {\n",
       "        text-align: right;\n",
       "    }\n",
       "</style>\n",
       "<table border=\"1\" class=\"dataframe\">\n",
       "  <thead>\n",
       "    <tr style=\"text-align: right;\">\n",
       "      <th></th>\n",
       "      <th>bid</th>\n",
       "      <th>price</th>\n",
       "      <th>auction_type</th>\n",
       "    </tr>\n",
       "    <tr>\n",
       "      <th>auctionid</th>\n",
       "      <th></th>\n",
       "      <th></th>\n",
       "      <th></th>\n",
       "    </tr>\n",
       "  </thead>\n",
       "  <tbody>\n",
       "    <tr>\n",
       "      <th>1638843936</th>\n",
       "      <td>1625.0</td>\n",
       "      <td>1625.0</td>\n",
       "      <td>7 day auction</td>\n",
       "    </tr>\n",
       "    <tr>\n",
       "      <th>1638844284</th>\n",
       "      <td>500.0</td>\n",
       "      <td>500.0</td>\n",
       "      <td>7 day auction</td>\n",
       "    </tr>\n",
       "    <tr>\n",
       "      <th>1638844464</th>\n",
       "      <td>740.0</td>\n",
       "      <td>740.0</td>\n",
       "      <td>7 day auction</td>\n",
       "    </tr>\n",
       "    <tr>\n",
       "      <th>1638844729</th>\n",
       "      <td>320.0</td>\n",
       "      <td>320.0</td>\n",
       "      <td>7 day auction</td>\n",
       "    </tr>\n",
       "    <tr>\n",
       "      <th>1638893549</th>\n",
       "      <td>177.5</td>\n",
       "      <td>177.5</td>\n",
       "      <td>3 day auction</td>\n",
       "    </tr>\n",
       "  </tbody>\n",
       "</table>\n",
       "</div>"
      ],
      "text/plain": [
       "               bid   price   auction_type\n",
       "auctionid                                \n",
       "1638843936  1625.0  1625.0  7 day auction\n",
       "1638844284   500.0   500.0  7 day auction\n",
       "1638844464   740.0   740.0  7 day auction\n",
       "1638844729   320.0   320.0  7 day auction\n",
       "1638893549   177.5   177.5  3 day auction"
      ]
     },
     "execution_count": 11,
     "metadata": {},
     "output_type": "execute_result"
    }
   ],
   "source": [
    "closing_price.head()"
   ]
  },
  {
   "cell_type": "code",
   "execution_count": 12,
   "metadata": {},
   "outputs": [],
   "source": [
    "closing_price['check']=np.where((closing_price['bid'] == closing_price['price']), closing_price['bid'], np.nan)"
   ]
  },
  {
   "cell_type": "code",
   "execution_count": 13,
   "metadata": {},
   "outputs": [
    {
     "data": {
      "text/html": [
       "<div>\n",
       "<style scoped>\n",
       "    .dataframe tbody tr th:only-of-type {\n",
       "        vertical-align: middle;\n",
       "    }\n",
       "\n",
       "    .dataframe tbody tr th {\n",
       "        vertical-align: top;\n",
       "    }\n",
       "\n",
       "    .dataframe thead th {\n",
       "        text-align: right;\n",
       "    }\n",
       "</style>\n",
       "<table border=\"1\" class=\"dataframe\">\n",
       "  <thead>\n",
       "    <tr style=\"text-align: right;\">\n",
       "      <th></th>\n",
       "      <th>bid</th>\n",
       "      <th>price</th>\n",
       "      <th>auction_type</th>\n",
       "      <th>check</th>\n",
       "    </tr>\n",
       "    <tr>\n",
       "      <th>auctionid</th>\n",
       "      <th></th>\n",
       "      <th></th>\n",
       "      <th></th>\n",
       "      <th></th>\n",
       "    </tr>\n",
       "  </thead>\n",
       "  <tbody>\n",
       "    <tr>\n",
       "      <th>1638843936</th>\n",
       "      <td>1625.0</td>\n",
       "      <td>1625.0</td>\n",
       "      <td>7 day auction</td>\n",
       "      <td>1625.0</td>\n",
       "    </tr>\n",
       "    <tr>\n",
       "      <th>1638844284</th>\n",
       "      <td>500.0</td>\n",
       "      <td>500.0</td>\n",
       "      <td>7 day auction</td>\n",
       "      <td>500.0</td>\n",
       "    </tr>\n",
       "    <tr>\n",
       "      <th>1638844464</th>\n",
       "      <td>740.0</td>\n",
       "      <td>740.0</td>\n",
       "      <td>7 day auction</td>\n",
       "      <td>740.0</td>\n",
       "    </tr>\n",
       "    <tr>\n",
       "      <th>1638844729</th>\n",
       "      <td>320.0</td>\n",
       "      <td>320.0</td>\n",
       "      <td>7 day auction</td>\n",
       "      <td>320.0</td>\n",
       "    </tr>\n",
       "    <tr>\n",
       "      <th>1638893549</th>\n",
       "      <td>177.5</td>\n",
       "      <td>177.5</td>\n",
       "      <td>3 day auction</td>\n",
       "      <td>177.5</td>\n",
       "    </tr>\n",
       "  </tbody>\n",
       "</table>\n",
       "</div>"
      ],
      "text/plain": [
       "               bid   price   auction_type   check\n",
       "auctionid                                        \n",
       "1638843936  1625.0  1625.0  7 day auction  1625.0\n",
       "1638844284   500.0   500.0  7 day auction   500.0\n",
       "1638844464   740.0   740.0  7 day auction   740.0\n",
       "1638844729   320.0   320.0  7 day auction   320.0\n",
       "1638893549   177.5   177.5  3 day auction   177.5"
      ]
     },
     "execution_count": 13,
     "metadata": {},
     "output_type": "execute_result"
    }
   ],
   "source": [
    "closing_price.head()"
   ]
  },
  {
   "cell_type": "code",
   "execution_count": 14,
   "metadata": {},
   "outputs": [
    {
     "name": "stdout",
     "output_type": "stream",
     "text": [
      "<class 'pandas.core.frame.DataFrame'>\n",
      "Int64Index: 628 entries, 1638843936 to 8215610555\n",
      "Data columns (total 4 columns):\n",
      "bid             628 non-null float64\n",
      "price           628 non-null float64\n",
      "auction_type    628 non-null object\n",
      "check           482 non-null float64\n",
      "dtypes: float64(3), object(1)\n",
      "memory usage: 24.5+ KB\n"
     ]
    }
   ],
   "source": [
    "closing_price.info()"
   ]
  },
  {
   "cell_type": "code",
   "execution_count": 15,
   "metadata": {},
   "outputs": [
    {
     "data": {
      "text/plain": [
       "482"
      ]
     },
     "execution_count": 15,
     "metadata": {},
     "output_type": "execute_result"
    }
   ],
   "source": [
    "closing_price.check.count()"
   ]
  },
  {
   "cell_type": "code",
   "execution_count": 16,
   "metadata": {},
   "outputs": [
    {
     "data": {
      "text/plain": [
       "bid               0\n",
       "price             0\n",
       "auction_type      0\n",
       "check           146\n",
       "dtype: int64"
      ]
     },
     "execution_count": 16,
     "metadata": {},
     "output_type": "execute_result"
    }
   ],
   "source": [
    "closing_price.isnull().sum()"
   ]
  },
  {
   "cell_type": "code",
   "execution_count": 17,
   "metadata": {},
   "outputs": [
    {
     "data": {
      "text/plain": [
       "(628, 4)"
      ]
     },
     "execution_count": 17,
     "metadata": {},
     "output_type": "execute_result"
    }
   ],
   "source": [
    "closing_price.shape"
   ]
  },
  {
   "cell_type": "code",
   "execution_count": 18,
   "metadata": {},
   "outputs": [
    {
     "data": {
      "text/plain": [
       "0.7675159235668789"
      ]
     },
     "execution_count": 18,
     "metadata": {},
     "output_type": "execute_result"
    }
   ],
   "source": [
    "1-146/628"
   ]
  },
  {
   "cell_type": "markdown",
   "metadata": {},
   "source": [
    "### 76.8% of bids placed right before the auction ends is the same as the closing price but people who place the last bid is not necessaily the one who get the item."
   ]
  },
  {
   "cell_type": "markdown",
   "metadata": {},
   "source": [
    "## Part 2 Data Exploration\n",
    "#Let's find how many days does an auction usually take?"
   ]
  },
  {
   "cell_type": "code",
   "execution_count": 19,
   "metadata": {},
   "outputs": [],
   "source": [
    "auction1 = auction[['auctionid','bidtime']]"
   ]
  },
  {
   "cell_type": "code",
   "execution_count": 20,
   "metadata": {},
   "outputs": [
    {
     "data": {
      "text/html": [
       "<div>\n",
       "<style scoped>\n",
       "    .dataframe tbody tr th:only-of-type {\n",
       "        vertical-align: middle;\n",
       "    }\n",
       "\n",
       "    .dataframe tbody tr th {\n",
       "        vertical-align: top;\n",
       "    }\n",
       "\n",
       "    .dataframe thead th {\n",
       "        text-align: right;\n",
       "    }\n",
       "</style>\n",
       "<table border=\"1\" class=\"dataframe\">\n",
       "  <thead>\n",
       "    <tr style=\"text-align: right;\">\n",
       "      <th></th>\n",
       "      <th>auctionid</th>\n",
       "      <th>bidtime</th>\n",
       "    </tr>\n",
       "  </thead>\n",
       "  <tbody>\n",
       "    <tr>\n",
       "      <th>0</th>\n",
       "      <td>1638893549</td>\n",
       "      <td>2.230949</td>\n",
       "    </tr>\n",
       "    <tr>\n",
       "      <th>1</th>\n",
       "      <td>1638893549</td>\n",
       "      <td>2.600116</td>\n",
       "    </tr>\n",
       "    <tr>\n",
       "      <th>2</th>\n",
       "      <td>1638893549</td>\n",
       "      <td>2.600810</td>\n",
       "    </tr>\n",
       "    <tr>\n",
       "      <th>3</th>\n",
       "      <td>1638893549</td>\n",
       "      <td>2.601076</td>\n",
       "    </tr>\n",
       "    <tr>\n",
       "      <th>4</th>\n",
       "      <td>1638893549</td>\n",
       "      <td>2.909826</td>\n",
       "    </tr>\n",
       "  </tbody>\n",
       "</table>\n",
       "</div>"
      ],
      "text/plain": [
       "    auctionid   bidtime\n",
       "0  1638893549  2.230949\n",
       "1  1638893549  2.600116\n",
       "2  1638893549  2.600810\n",
       "3  1638893549  2.601076\n",
       "4  1638893549  2.909826"
      ]
     },
     "execution_count": 20,
     "metadata": {},
     "output_type": "execute_result"
    }
   ],
   "source": [
    "auction1.head()"
   ]
  },
  {
   "cell_type": "code",
   "execution_count": 21,
   "metadata": {},
   "outputs": [],
   "source": [
    "max_bidtime = auction1.groupby(['auctionid']).max()"
   ]
  },
  {
   "cell_type": "code",
   "execution_count": 22,
   "metadata": {},
   "outputs": [
    {
     "data": {
      "text/html": [
       "<div>\n",
       "<style scoped>\n",
       "    .dataframe tbody tr th:only-of-type {\n",
       "        vertical-align: middle;\n",
       "    }\n",
       "\n",
       "    .dataframe tbody tr th {\n",
       "        vertical-align: top;\n",
       "    }\n",
       "\n",
       "    .dataframe thead th {\n",
       "        text-align: right;\n",
       "    }\n",
       "</style>\n",
       "<table border=\"1\" class=\"dataframe\">\n",
       "  <thead>\n",
       "    <tr style=\"text-align: right;\">\n",
       "      <th></th>\n",
       "      <th>bidtime</th>\n",
       "    </tr>\n",
       "    <tr>\n",
       "      <th>auctionid</th>\n",
       "      <th></th>\n",
       "    </tr>\n",
       "  </thead>\n",
       "  <tbody>\n",
       "    <tr>\n",
       "      <th>1638843936</th>\n",
       "      <td>6.893113</td>\n",
       "    </tr>\n",
       "    <tr>\n",
       "      <th>1638844284</th>\n",
       "      <td>1.252407</td>\n",
       "    </tr>\n",
       "    <tr>\n",
       "      <th>1638844464</th>\n",
       "      <td>6.999745</td>\n",
       "    </tr>\n",
       "    <tr>\n",
       "      <th>1638844729</th>\n",
       "      <td>6.999213</td>\n",
       "    </tr>\n",
       "    <tr>\n",
       "      <th>1638893549</th>\n",
       "      <td>2.909826</td>\n",
       "    </tr>\n",
       "  </tbody>\n",
       "</table>\n",
       "</div>"
      ],
      "text/plain": [
       "             bidtime\n",
       "auctionid           \n",
       "1638843936  6.893113\n",
       "1638844284  1.252407\n",
       "1638844464  6.999745\n",
       "1638844729  6.999213\n",
       "1638893549  2.909826"
      ]
     },
     "execution_count": 22,
     "metadata": {},
     "output_type": "execute_result"
    }
   ],
   "source": [
    "max_bidtime.head()"
   ]
  },
  {
   "cell_type": "code",
   "execution_count": 23,
   "metadata": {},
   "outputs": [
    {
     "name": "stderr",
     "output_type": "stream",
     "text": [
      "/Users/rajusunkara/Documents/anakonda/anaconda3/lib/python3.6/site-packages/matplotlib/axes/_axes.py:6462: UserWarning: The 'normed' kwarg is deprecated, and has been replaced by the 'density' kwarg.\n",
      "  warnings.warn(\"The 'normed' kwarg is deprecated, and has been \"\n"
     ]
    },
    {
     "data": {
      "image/png": "[encoded data removed]",
      "text/plain": [
       "<Figure size 648x576 with 1 Axes>"
      ]
     },
     "metadata": {},
     "output_type": "display_data"
    }
   ],
   "source": [
    "# when normed=True, sum of bin height*width for all bins=1\n",
    "\n",
    "fig, ax = plt.subplots(figsize = (9, 8))\n",
    "ax.hist(max_bidtime['bidtime'], bins=25, normed=True)\n",
    "sns.kdeplot(max_bidtime['bidtime'], ax=ax, lw = 3)\n",
    "ax.set_title(\"Histogram of bidtime\")\n",
    "plt.show()"
   ]
  },
  {
   "cell_type": "markdown",
   "metadata": {},
   "source": [
    ">** From the kernel density distribution above, we can see that it is most likely that auctions will take 7 days and then 3 days and 5 days. As is shown below, most auction types are 7 days. And this corresponds to the likihood of days most auctions**"
   ]
  },
  {
   "cell_type": "markdown",
   "metadata": {},
   "source": [
    "## 2.2 Analysis of bidtime for different acution_types"
   ]
  },
  {
   "cell_type": "code",
   "execution_count": 24,
   "metadata": {},
   "outputs": [
    {
     "data": {
      "text/html": [
       "<div>\n",
       "<style scoped>\n",
       "    .dataframe tbody tr th:only-of-type {\n",
       "        vertical-align: middle;\n",
       "    }\n",
       "\n",
       "    .dataframe tbody tr th {\n",
       "        vertical-align: top;\n",
       "    }\n",
       "\n",
       "    .dataframe thead th {\n",
       "        text-align: right;\n",
       "    }\n",
       "</style>\n",
       "<table border=\"1\" class=\"dataframe\">\n",
       "  <thead>\n",
       "    <tr style=\"text-align: right;\">\n",
       "      <th></th>\n",
       "      <th>auctionid</th>\n",
       "      <th>bid</th>\n",
       "      <th>bidtime</th>\n",
       "      <th>bidder</th>\n",
       "      <th>bidderrate</th>\n",
       "      <th>openbid</th>\n",
       "      <th>price</th>\n",
       "      <th>item</th>\n",
       "      <th>auction_type</th>\n",
       "    </tr>\n",
       "  </thead>\n",
       "  <tbody>\n",
       "    <tr>\n",
       "      <th>0</th>\n",
       "      <td>1638893549</td>\n",
       "      <td>175.0</td>\n",
       "      <td>2.230949</td>\n",
       "      <td>schadenfreud</td>\n",
       "      <td>0.0</td>\n",
       "      <td>99.0</td>\n",
       "      <td>177.5</td>\n",
       "      <td>Cartier wristwatch</td>\n",
       "      <td>3 day auction</td>\n",
       "    </tr>\n",
       "    <tr>\n",
       "      <th>1</th>\n",
       "      <td>1638893549</td>\n",
       "      <td>100.0</td>\n",
       "      <td>2.600116</td>\n",
       "      <td>chuik</td>\n",
       "      <td>0.0</td>\n",
       "      <td>99.0</td>\n",
       "      <td>177.5</td>\n",
       "      <td>Cartier wristwatch</td>\n",
       "      <td>3 day auction</td>\n",
       "    </tr>\n",
       "    <tr>\n",
       "      <th>2</th>\n",
       "      <td>1638893549</td>\n",
       "      <td>120.0</td>\n",
       "      <td>2.600810</td>\n",
       "      <td>kiwisstuff</td>\n",
       "      <td>2.0</td>\n",
       "      <td>99.0</td>\n",
       "      <td>177.5</td>\n",
       "      <td>Cartier wristwatch</td>\n",
       "      <td>3 day auction</td>\n",
       "    </tr>\n",
       "    <tr>\n",
       "      <th>3</th>\n",
       "      <td>1638893549</td>\n",
       "      <td>150.0</td>\n",
       "      <td>2.601076</td>\n",
       "      <td>kiwisstuff</td>\n",
       "      <td>2.0</td>\n",
       "      <td>99.0</td>\n",
       "      <td>177.5</td>\n",
       "      <td>Cartier wristwatch</td>\n",
       "      <td>3 day auction</td>\n",
       "    </tr>\n",
       "    <tr>\n",
       "      <th>4</th>\n",
       "      <td>1638893549</td>\n",
       "      <td>177.5</td>\n",
       "      <td>2.909826</td>\n",
       "      <td>eli.flint@flightsafety.co</td>\n",
       "      <td>4.0</td>\n",
       "      <td>99.0</td>\n",
       "      <td>177.5</td>\n",
       "      <td>Cartier wristwatch</td>\n",
       "      <td>3 day auction</td>\n",
       "    </tr>\n",
       "  </tbody>\n",
       "</table>\n",
       "</div>"
      ],
      "text/plain": [
       "    auctionid    bid   bidtime                     bidder  bidderrate  \\\n",
       "0  1638893549  175.0  2.230949               schadenfreud         0.0   \n",
       "1  1638893549  100.0  2.600116                      chuik         0.0   \n",
       "2  1638893549  120.0  2.600810                 kiwisstuff         2.0   \n",
       "3  1638893549  150.0  2.601076                 kiwisstuff         2.0   \n",
       "4  1638893549  177.5  2.909826  eli.flint@flightsafety.co         4.0   \n",
       "\n",
       "   openbid  price                item   auction_type  \n",
       "0     99.0  177.5  Cartier wristwatch  3 day auction  \n",
       "1     99.0  177.5  Cartier wristwatch  3 day auction  \n",
       "2     99.0  177.5  Cartier wristwatch  3 day auction  \n",
       "3     99.0  177.5  Cartier wristwatch  3 day auction  \n",
       "4     99.0  177.5  Cartier wristwatch  3 day auction  "
      ]
     },
     "execution_count": 24,
     "metadata": {},
     "output_type": "execute_result"
    }
   ],
   "source": [
    "auction.head()"
   ]
  },
  {
   "cell_type": "markdown",
   "metadata": {},
   "source": [
    "### Number of unique acutions for different auction types"
   ]
  },
  {
   "cell_type": "code",
   "execution_count": 25,
   "metadata": {},
   "outputs": [
    {
     "name": "stdout",
     "output_type": "stream",
     "text": [
      "               auctionid\n",
      "auction_type            \n",
      "3 day auction        148\n",
      "5 day auction         96\n",
      "7 day auction        384\n"
     ]
    }
   ],
   "source": [
    "num_type=auction.groupby('auction_type')['auctionid'].nunique()\n",
    "num_type=num_type.to_frame()\n",
    "print(num_type)"
   ]
  },
  {
   "cell_type": "markdown",
   "metadata": {},
   "source": [
    "#### Plot to see the Auction days"
   ]
  },
  {
   "cell_type": "code",
   "execution_count": 26,
   "metadata": {},
   "outputs": [
    {
     "data": {
      "image/png": "[encoded data removed]",
      "text/plain": [
       "<Figure size 432x288 with 1 Axes>"
      ]
     },
     "metadata": {},
     "output_type": "display_data"
    }
   ],
   "source": [
    "# Create a list of colors (from iWantHue)\n",
    "colors=['#5ABA10', '#FE110E','#0f20ff']\n",
    "# Create a pie chart\n",
    "plt.pie(\n",
    "    # using data total)arrests\n",
    "    num_type['auctionid'],\n",
    "    # with the labels being officer names\n",
    "    labels=num_type.index,\n",
    "    # with no shadows\n",
    "    shadow=False,\n",
    "    # with colors\n",
    "   colors=colors,\n",
    "    # with the percent listed as a fraction\n",
    "    autopct='%1.1f%%',\n",
    "    )\n",
    "\n",
    "# View the plot drop above\n",
    "plt.axis('equal')\n",
    "\n",
    "# View the plot\n",
    "plt.tight_layout()\n",
    "plt.show()"
   ]
  },
  {
   "cell_type": "markdown",
   "metadata": {},
   "source": [
    "### A pie chart showing the percentage composition of different auction types. \n",
    "### From the plot, we can see that **61% percent of the auctions are 7 day auction**.\n",
    "\n",
    "### Max bidtime for each unique auction\n",
    ">Let's compare the distribution of max bidtime for three auction types. To achieve this, I used the max bidtime for each auctionid calculated above and then merge it with auction_type. Therefore, I get auction_type and max bidtime for each unique auction."
   ]
  },
  {
   "cell_type": "markdown",
   "metadata": {},
   "source": [
    "### Create a Sub Dataset "
   ]
  },
  {
   "cell_type": "code",
   "execution_count": 27,
   "metadata": {},
   "outputs": [],
   "source": [
    "max_bidtime=auction.groupby('auctionid',as_index=False)['bidtime'].max()"
   ]
  },
  {
   "cell_type": "code",
   "execution_count": 28,
   "metadata": {},
   "outputs": [
    {
     "data": {
      "text/html": [
       "<div>\n",
       "<style scoped>\n",
       "    .dataframe tbody tr th:only-of-type {\n",
       "        vertical-align: middle;\n",
       "    }\n",
       "\n",
       "    .dataframe tbody tr th {\n",
       "        vertical-align: top;\n",
       "    }\n",
       "\n",
       "    .dataframe thead th {\n",
       "        text-align: right;\n",
       "    }\n",
       "</style>\n",
       "<table border=\"1\" class=\"dataframe\">\n",
       "  <thead>\n",
       "    <tr style=\"text-align: right;\">\n",
       "      <th></th>\n",
       "      <th>auctionid</th>\n",
       "      <th>bidtime</th>\n",
       "    </tr>\n",
       "  </thead>\n",
       "  <tbody>\n",
       "    <tr>\n",
       "      <th>0</th>\n",
       "      <td>1638843936</td>\n",
       "      <td>6.893113</td>\n",
       "    </tr>\n",
       "    <tr>\n",
       "      <th>1</th>\n",
       "      <td>1638844284</td>\n",
       "      <td>1.252407</td>\n",
       "    </tr>\n",
       "    <tr>\n",
       "      <th>2</th>\n",
       "      <td>1638844464</td>\n",
       "      <td>6.999745</td>\n",
       "    </tr>\n",
       "    <tr>\n",
       "      <th>3</th>\n",
       "      <td>1638844729</td>\n",
       "      <td>6.999213</td>\n",
       "    </tr>\n",
       "    <tr>\n",
       "      <th>4</th>\n",
       "      <td>1638893549</td>\n",
       "      <td>2.909826</td>\n",
       "    </tr>\n",
       "  </tbody>\n",
       "</table>\n",
       "</div>"
      ],
      "text/plain": [
       "    auctionid   bidtime\n",
       "0  1638843936  6.893113\n",
       "1  1638844284  1.252407\n",
       "2  1638844464  6.999745\n",
       "3  1638844729  6.999213\n",
       "4  1638893549  2.909826"
      ]
     },
     "execution_count": 28,
     "metadata": {},
     "output_type": "execute_result"
    }
   ],
   "source": [
    "max_bidtime.head()"
   ]
  },
  {
   "cell_type": "code",
   "execution_count": 29,
   "metadata": {},
   "outputs": [
    {
     "name": "stdout",
     "output_type": "stream",
     "text": [
      "<class 'pandas.core.frame.DataFrame'>\n",
      "Int64Index: 628 entries, 0 to 627\n",
      "Data columns (total 2 columns):\n",
      "auctionid    628 non-null int64\n",
      "bidtime      628 non-null float64\n",
      "dtypes: float64(1), int64(1)\n",
      "memory usage: 14.7 KB\n"
     ]
    }
   ],
   "source": [
    "max_bidtime.info()"
   ]
  },
  {
   "cell_type": "markdown",
   "metadata": {},
   "source": [
    "### Create a Sub Dataset "
   ]
  },
  {
   "cell_type": "code",
   "execution_count": 30,
   "metadata": {},
   "outputs": [],
   "source": [
    "auction2 = auction[['auctionid','auction_type']]"
   ]
  },
  {
   "cell_type": "code",
   "execution_count": 31,
   "metadata": {},
   "outputs": [],
   "source": [
    "auction_type=auction2.groupby('auctionid',as_index=False)['auction_type'].first()"
   ]
  },
  {
   "cell_type": "code",
   "execution_count": 32,
   "metadata": {},
   "outputs": [
    {
     "data": {
      "text/html": [
       "<div>\n",
       "<style scoped>\n",
       "    .dataframe tbody tr th:only-of-type {\n",
       "        vertical-align: middle;\n",
       "    }\n",
       "\n",
       "    .dataframe tbody tr th {\n",
       "        vertical-align: top;\n",
       "    }\n",
       "\n",
       "    .dataframe thead th {\n",
       "        text-align: right;\n",
       "    }\n",
       "</style>\n",
       "<table border=\"1\" class=\"dataframe\">\n",
       "  <thead>\n",
       "    <tr style=\"text-align: right;\">\n",
       "      <th></th>\n",
       "      <th>auctionid</th>\n",
       "      <th>auction_type</th>\n",
       "    </tr>\n",
       "  </thead>\n",
       "  <tbody>\n",
       "    <tr>\n",
       "      <th>0</th>\n",
       "      <td>1638843936</td>\n",
       "      <td>7 day auction</td>\n",
       "    </tr>\n",
       "    <tr>\n",
       "      <th>1</th>\n",
       "      <td>1638844284</td>\n",
       "      <td>7 day auction</td>\n",
       "    </tr>\n",
       "    <tr>\n",
       "      <th>2</th>\n",
       "      <td>1638844464</td>\n",
       "      <td>7 day auction</td>\n",
       "    </tr>\n",
       "    <tr>\n",
       "      <th>3</th>\n",
       "      <td>1638844729</td>\n",
       "      <td>7 day auction</td>\n",
       "    </tr>\n",
       "    <tr>\n",
       "      <th>4</th>\n",
       "      <td>1638893549</td>\n",
       "      <td>3 day auction</td>\n",
       "    </tr>\n",
       "  </tbody>\n",
       "</table>\n",
       "</div>"
      ],
      "text/plain": [
       "    auctionid   auction_type\n",
       "0  1638843936  7 day auction\n",
       "1  1638844284  7 day auction\n",
       "2  1638844464  7 day auction\n",
       "3  1638844729  7 day auction\n",
       "4  1638893549  3 day auction"
      ]
     },
     "execution_count": 32,
     "metadata": {},
     "output_type": "execute_result"
    }
   ],
   "source": [
    "auction_type.head()"
   ]
  },
  {
   "cell_type": "code",
   "execution_count": 33,
   "metadata": {},
   "outputs": [
    {
     "name": "stdout",
     "output_type": "stream",
     "text": [
      "<class 'pandas.core.frame.DataFrame'>\n",
      "Int64Index: 628 entries, 0 to 627\n",
      "Data columns (total 2 columns):\n",
      "auctionid       628 non-null int64\n",
      "auction_type    628 non-null object\n",
      "dtypes: int64(1), object(1)\n",
      "memory usage: 14.7+ KB\n"
     ]
    }
   ],
   "source": [
    "auction_type.info()"
   ]
  },
  {
   "cell_type": "markdown",
   "metadata": {},
   "source": [
    "### Create a Sub Dataset  By Clubbing both datasets"
   ]
  },
  {
   "cell_type": "code",
   "execution_count": 34,
   "metadata": {},
   "outputs": [],
   "source": [
    "auction3 = pd.merge(max_bidtime, auction_type, how='inner', on=['auctionid'])"
   ]
  },
  {
   "cell_type": "code",
   "execution_count": 35,
   "metadata": {},
   "outputs": [
    {
     "data": {
      "text/html": [
       "<div>\n",
       "<style scoped>\n",
       "    .dataframe tbody tr th:only-of-type {\n",
       "        vertical-align: middle;\n",
       "    }\n",
       "\n",
       "    .dataframe tbody tr th {\n",
       "        vertical-align: top;\n",
       "    }\n",
       "\n",
       "    .dataframe thead th {\n",
       "        text-align: right;\n",
       "    }\n",
       "</style>\n",
       "<table border=\"1\" class=\"dataframe\">\n",
       "  <thead>\n",
       "    <tr style=\"text-align: right;\">\n",
       "      <th></th>\n",
       "      <th>auctionid</th>\n",
       "      <th>bidtime</th>\n",
       "      <th>auction_type</th>\n",
       "    </tr>\n",
       "  </thead>\n",
       "  <tbody>\n",
       "    <tr>\n",
       "      <th>0</th>\n",
       "      <td>1638843936</td>\n",
       "      <td>6.893113</td>\n",
       "      <td>7 day auction</td>\n",
       "    </tr>\n",
       "    <tr>\n",
       "      <th>1</th>\n",
       "      <td>1638844284</td>\n",
       "      <td>1.252407</td>\n",
       "      <td>7 day auction</td>\n",
       "    </tr>\n",
       "    <tr>\n",
       "      <th>2</th>\n",
       "      <td>1638844464</td>\n",
       "      <td>6.999745</td>\n",
       "      <td>7 day auction</td>\n",
       "    </tr>\n",
       "    <tr>\n",
       "      <th>3</th>\n",
       "      <td>1638844729</td>\n",
       "      <td>6.999213</td>\n",
       "      <td>7 day auction</td>\n",
       "    </tr>\n",
       "    <tr>\n",
       "      <th>4</th>\n",
       "      <td>1638893549</td>\n",
       "      <td>2.909826</td>\n",
       "      <td>3 day auction</td>\n",
       "    </tr>\n",
       "  </tbody>\n",
       "</table>\n",
       "</div>"
      ],
      "text/plain": [
       "    auctionid   bidtime   auction_type\n",
       "0  1638843936  6.893113  7 day auction\n",
       "1  1638844284  1.252407  7 day auction\n",
       "2  1638844464  6.999745  7 day auction\n",
       "3  1638844729  6.999213  7 day auction\n",
       "4  1638893549  2.909826  3 day auction"
      ]
     },
     "execution_count": 35,
     "metadata": {},
     "output_type": "execute_result"
    }
   ],
   "source": [
    "auction3.head()"
   ]
  },
  {
   "cell_type": "code",
   "execution_count": 36,
   "metadata": {},
   "outputs": [
    {
     "name": "stdout",
     "output_type": "stream",
     "text": [
      "<class 'pandas.core.frame.DataFrame'>\n",
      "Int64Index: 628 entries, 0 to 627\n",
      "Data columns (total 3 columns):\n",
      "auctionid       628 non-null int64\n",
      "bidtime         628 non-null float64\n",
      "auction_type    628 non-null object\n",
      "dtypes: float64(1), int64(1), object(1)\n",
      "memory usage: 19.6+ KB\n"
     ]
    }
   ],
   "source": [
    "auction3.info()"
   ]
  },
  {
   "cell_type": "code",
   "execution_count": 37,
   "metadata": {},
   "outputs": [],
   "source": [
    "seven_day_auction = auction3.query('auction_type == \"7 day auction\"') \n",
    "five_day_auction= auction3.query('auction_type == \"5 day auction\"') \n",
    "three_day_auction= auction3.query('auction_type == \"3 day auction\"')"
   ]
  },
  {
   "cell_type": "code",
   "execution_count": 38,
   "metadata": {},
   "outputs": [
    {
     "name": "stdout",
     "output_type": "stream",
     "text": [
      "(148, 3) (96, 3) (384, 3)\n"
     ]
    }
   ],
   "source": [
    "print(three_day_auction.shape,five_day_auction.shape,seven_day_auction.shape)"
   ]
  },
  {
   "cell_type": "code",
   "execution_count": 39,
   "metadata": {},
   "outputs": [
    {
     "name": "stderr",
     "output_type": "stream",
     "text": [
      "/Users/rajusunkara/Documents/anakonda/anaconda3/lib/python3.6/site-packages/matplotlib/axes/_axes.py:6462: UserWarning: The 'normed' kwarg is deprecated, and has been replaced by the 'density' kwarg.\n",
      "  warnings.warn(\"The 'normed' kwarg is deprecated, and has been \"\n",
      "/Users/rajusunkara/Documents/anakonda/anaconda3/lib/python3.6/site-packages/matplotlib/axes/_axes.py:6462: UserWarning: The 'normed' kwarg is deprecated, and has been replaced by the 'density' kwarg.\n",
      "  warnings.warn(\"The 'normed' kwarg is deprecated, and has been \"\n",
      "/Users/rajusunkara/Documents/anakonda/anaconda3/lib/python3.6/site-packages/matplotlib/axes/_axes.py:6462: UserWarning: The 'normed' kwarg is deprecated, and has been replaced by the 'density' kwarg.\n",
      "  warnings.warn(\"The 'normed' kwarg is deprecated, and has been \"\n"
     ]
    },
    {
     "data": {
      "image/png": "[encoded data removed]",
      "text/plain": [
       "<Figure size 576x432 with 1 Axes>"
      ]
     },
     "metadata": {},
     "output_type": "display_data"
    }
   ],
   "source": [
    "fig, ax = plt.subplots(figsize = (8, 6))\n",
    "ax.hist(seven_day_auction['bidtime'], bins=25, normed=True,label='seven_day')\n",
    "ax.hist(three_day_auction['bidtime'], bins=25, normed=True,label='three_day')\n",
    "ax.hist(five_day_auction['bidtime'], bins=25, normed=True,label='five_day')\n",
    "ax.set_title(\"Histogram of max bidtime for different auction types\")\n",
    "plt.legend()\n",
    "plt.show()"
   ]
  },
  {
   "cell_type": "markdown",
   "metadata": {},
   "source": [
    "### From the plot above, we can see that <font color ='green'> the ultimate bid time for most auctions are the same as maximun days that they are availbale</font>."
   ]
  },
  {
   "cell_type": "markdown",
   "metadata": {},
   "source": [
    "## 2.3 Analysis of open bid\n",
    ">Does different items statistically different in average open bid?\n",
    "\n",
    ">Does different auction types statistically different in average open bid?"
   ]
  },
  {
   "cell_type": "code",
   "execution_count": 40,
   "metadata": {},
   "outputs": [
    {
     "data": {
      "text/html": [
       "<div>\n",
       "<style scoped>\n",
       "    .dataframe tbody tr th:only-of-type {\n",
       "        vertical-align: middle;\n",
       "    }\n",
       "\n",
       "    .dataframe tbody tr th {\n",
       "        vertical-align: top;\n",
       "    }\n",
       "\n",
       "    .dataframe thead th {\n",
       "        text-align: right;\n",
       "    }\n",
       "</style>\n",
       "<table border=\"1\" class=\"dataframe\">\n",
       "  <thead>\n",
       "    <tr style=\"text-align: right;\">\n",
       "      <th></th>\n",
       "      <th>auctionid</th>\n",
       "      <th>bid</th>\n",
       "      <th>bidtime</th>\n",
       "      <th>bidder</th>\n",
       "      <th>bidderrate</th>\n",
       "      <th>openbid</th>\n",
       "      <th>price</th>\n",
       "      <th>item</th>\n",
       "      <th>auction_type</th>\n",
       "    </tr>\n",
       "  </thead>\n",
       "  <tbody>\n",
       "    <tr>\n",
       "      <th>0</th>\n",
       "      <td>1638893549</td>\n",
       "      <td>175.0</td>\n",
       "      <td>2.230949</td>\n",
       "      <td>schadenfreud</td>\n",
       "      <td>0.0</td>\n",
       "      <td>99.0</td>\n",
       "      <td>177.5</td>\n",
       "      <td>Cartier wristwatch</td>\n",
       "      <td>3 day auction</td>\n",
       "    </tr>\n",
       "    <tr>\n",
       "      <th>1</th>\n",
       "      <td>1638893549</td>\n",
       "      <td>100.0</td>\n",
       "      <td>2.600116</td>\n",
       "      <td>chuik</td>\n",
       "      <td>0.0</td>\n",
       "      <td>99.0</td>\n",
       "      <td>177.5</td>\n",
       "      <td>Cartier wristwatch</td>\n",
       "      <td>3 day auction</td>\n",
       "    </tr>\n",
       "    <tr>\n",
       "      <th>2</th>\n",
       "      <td>1638893549</td>\n",
       "      <td>120.0</td>\n",
       "      <td>2.600810</td>\n",
       "      <td>kiwisstuff</td>\n",
       "      <td>2.0</td>\n",
       "      <td>99.0</td>\n",
       "      <td>177.5</td>\n",
       "      <td>Cartier wristwatch</td>\n",
       "      <td>3 day auction</td>\n",
       "    </tr>\n",
       "    <tr>\n",
       "      <th>3</th>\n",
       "      <td>1638893549</td>\n",
       "      <td>150.0</td>\n",
       "      <td>2.601076</td>\n",
       "      <td>kiwisstuff</td>\n",
       "      <td>2.0</td>\n",
       "      <td>99.0</td>\n",
       "      <td>177.5</td>\n",
       "      <td>Cartier wristwatch</td>\n",
       "      <td>3 day auction</td>\n",
       "    </tr>\n",
       "    <tr>\n",
       "      <th>4</th>\n",
       "      <td>1638893549</td>\n",
       "      <td>177.5</td>\n",
       "      <td>2.909826</td>\n",
       "      <td>eli.flint@flightsafety.co</td>\n",
       "      <td>4.0</td>\n",
       "      <td>99.0</td>\n",
       "      <td>177.5</td>\n",
       "      <td>Cartier wristwatch</td>\n",
       "      <td>3 day auction</td>\n",
       "    </tr>\n",
       "  </tbody>\n",
       "</table>\n",
       "</div>"
      ],
      "text/plain": [
       "    auctionid    bid   bidtime                     bidder  bidderrate  \\\n",
       "0  1638893549  175.0  2.230949               schadenfreud         0.0   \n",
       "1  1638893549  100.0  2.600116                      chuik         0.0   \n",
       "2  1638893549  120.0  2.600810                 kiwisstuff         2.0   \n",
       "3  1638893549  150.0  2.601076                 kiwisstuff         2.0   \n",
       "4  1638893549  177.5  2.909826  eli.flint@flightsafety.co         4.0   \n",
       "\n",
       "   openbid  price                item   auction_type  \n",
       "0     99.0  177.5  Cartier wristwatch  3 day auction  \n",
       "1     99.0  177.5  Cartier wristwatch  3 day auction  \n",
       "2     99.0  177.5  Cartier wristwatch  3 day auction  \n",
       "3     99.0  177.5  Cartier wristwatch  3 day auction  \n",
       "4     99.0  177.5  Cartier wristwatch  3 day auction  "
      ]
     },
     "execution_count": 40,
     "metadata": {},
     "output_type": "execute_result"
    }
   ],
   "source": [
    "auction.head()"
   ]
  },
  {
   "cell_type": "code",
   "execution_count": 41,
   "metadata": {},
   "outputs": [
    {
     "data": {
      "text/html": [
       "<div>\n",
       "<style scoped>\n",
       "    .dataframe tbody tr th:only-of-type {\n",
       "        vertical-align: middle;\n",
       "    }\n",
       "\n",
       "    .dataframe tbody tr th {\n",
       "        vertical-align: top;\n",
       "    }\n",
       "\n",
       "    .dataframe thead th {\n",
       "        text-align: right;\n",
       "    }\n",
       "</style>\n",
       "<table border=\"1\" class=\"dataframe\">\n",
       "  <thead>\n",
       "    <tr style=\"text-align: right;\">\n",
       "      <th></th>\n",
       "      <th>openbid</th>\n",
       "      <th>item</th>\n",
       "      <th>auction_type</th>\n",
       "    </tr>\n",
       "    <tr>\n",
       "      <th>auctionid</th>\n",
       "      <th></th>\n",
       "      <th></th>\n",
       "      <th></th>\n",
       "    </tr>\n",
       "  </thead>\n",
       "  <tbody>\n",
       "    <tr>\n",
       "      <th>1638843936</th>\n",
       "      <td>500.0</td>\n",
       "      <td>Cartier wristwatch</td>\n",
       "      <td>7 day auction</td>\n",
       "    </tr>\n",
       "    <tr>\n",
       "      <th>1638844284</th>\n",
       "      <td>200.0</td>\n",
       "      <td>Cartier wristwatch</td>\n",
       "      <td>7 day auction</td>\n",
       "    </tr>\n",
       "    <tr>\n",
       "      <th>1638844464</th>\n",
       "      <td>300.0</td>\n",
       "      <td>Cartier wristwatch</td>\n",
       "      <td>7 day auction</td>\n",
       "    </tr>\n",
       "    <tr>\n",
       "      <th>1638844729</th>\n",
       "      <td>225.0</td>\n",
       "      <td>Cartier wristwatch</td>\n",
       "      <td>7 day auction</td>\n",
       "    </tr>\n",
       "    <tr>\n",
       "      <th>1638893549</th>\n",
       "      <td>99.0</td>\n",
       "      <td>Cartier wristwatch</td>\n",
       "      <td>3 day auction</td>\n",
       "    </tr>\n",
       "  </tbody>\n",
       "</table>\n",
       "</div>"
      ],
      "text/plain": [
       "            openbid                item   auction_type\n",
       "auctionid                                             \n",
       "1638843936    500.0  Cartier wristwatch  7 day auction\n",
       "1638844284    200.0  Cartier wristwatch  7 day auction\n",
       "1638844464    300.0  Cartier wristwatch  7 day auction\n",
       "1638844729    225.0  Cartier wristwatch  7 day auction\n",
       "1638893549     99.0  Cartier wristwatch  3 day auction"
      ]
     },
     "execution_count": 41,
     "metadata": {},
     "output_type": "execute_result"
    }
   ],
   "source": [
    "open_bid = auction.groupby(['auctionid']).last()\n",
    "open_bid=open_bid[['openbid','item','auction_type']]\n",
    "open_bid.head()"
   ]
  },
  {
   "cell_type": "code",
   "execution_count": 42,
   "metadata": {},
   "outputs": [
    {
     "data": {
      "image/png": "[encoded data removed]",
      "text/plain": [
       "<Figure size 648x504 with 1 Axes>"
      ]
     },
     "metadata": {},
     "output_type": "display_data"
    }
   ],
   "source": [
    "#create a boxplot first in order to have a more direct way of seeing means of open bid for different types\n",
    "bx = plt.subplots(figsize = (9, 7))\n",
    "sns.set_style(\"whitegrid\")\n",
    "bx = sns.boxplot(x=\"item\", y=\"openbid\", data=open_bid)"
   ]
  },
  {
   "cell_type": "code",
   "execution_count": 43,
   "metadata": {},
   "outputs": [
    {
     "data": {
      "text/plain": [
       "5000.0"
      ]
     },
     "execution_count": 43,
     "metadata": {},
     "output_type": "execute_result"
    }
   ],
   "source": [
    "df=open_bid[open_bid['item']=='Cartier wristwatch']['openbid']\n",
    "df.max()"
   ]
  },
  {
   "cell_type": "code",
   "execution_count": 44,
   "metadata": {},
   "outputs": [
    {
     "data": {
      "text/plain": [
       "auctionid\n",
       "1638843936    500.0\n",
       "1638844284    200.0\n",
       "1638844464    300.0\n",
       "1638844729    225.0\n",
       "1638893549     99.0\n",
       "Name: openbid, dtype: float64"
      ]
     },
     "execution_count": 44,
     "metadata": {},
     "output_type": "execute_result"
    }
   ],
   "source": [
    "df.head()"
   ]
  },
  {
   "cell_type": "code",
   "execution_count": 45,
   "metadata": {},
   "outputs": [
    {
     "data": {
      "text/plain": [
       "(136,)"
      ]
     },
     "execution_count": 45,
     "metadata": {},
     "output_type": "execute_result"
    }
   ],
   "source": [
    "df.shape"
   ]
  },
  {
   "cell_type": "markdown",
   "metadata": {},
   "source": [
    "### We can see that there's a Cartier wristwatch with an open bid of 5,000, which I think is very likely to bias my analysis of open bid. Therefore, I'm going to exclude that observation. ** I'm not quite sure if I should do this though. I would appreciate your suggestion.**"
   ]
  },
  {
   "cell_type": "code",
   "execution_count": 46,
   "metadata": {},
   "outputs": [
    {
     "data": {
      "text/html": [
       "<div>\n",
       "<style scoped>\n",
       "    .dataframe tbody tr th:only-of-type {\n",
       "        vertical-align: middle;\n",
       "    }\n",
       "\n",
       "    .dataframe tbody tr th {\n",
       "        vertical-align: top;\n",
       "    }\n",
       "\n",
       "    .dataframe thead th {\n",
       "        text-align: right;\n",
       "    }\n",
       "</style>\n",
       "<table border=\"1\" class=\"dataframe\">\n",
       "  <thead>\n",
       "    <tr style=\"text-align: right;\">\n",
       "      <th></th>\n",
       "      <th>openbid</th>\n",
       "      <th>item</th>\n",
       "      <th>auction_type</th>\n",
       "    </tr>\n",
       "    <tr>\n",
       "      <th>auctionid</th>\n",
       "      <th></th>\n",
       "      <th></th>\n",
       "      <th></th>\n",
       "    </tr>\n",
       "  </thead>\n",
       "  <tbody>\n",
       "    <tr>\n",
       "      <th>1638843936</th>\n",
       "      <td>500.0</td>\n",
       "      <td>Cartier wristwatch</td>\n",
       "      <td>7 day auction</td>\n",
       "    </tr>\n",
       "    <tr>\n",
       "      <th>1638844284</th>\n",
       "      <td>200.0</td>\n",
       "      <td>Cartier wristwatch</td>\n",
       "      <td>7 day auction</td>\n",
       "    </tr>\n",
       "    <tr>\n",
       "      <th>1638844464</th>\n",
       "      <td>300.0</td>\n",
       "      <td>Cartier wristwatch</td>\n",
       "      <td>7 day auction</td>\n",
       "    </tr>\n",
       "    <tr>\n",
       "      <th>1638844729</th>\n",
       "      <td>225.0</td>\n",
       "      <td>Cartier wristwatch</td>\n",
       "      <td>7 day auction</td>\n",
       "    </tr>\n",
       "    <tr>\n",
       "      <th>1638893549</th>\n",
       "      <td>99.0</td>\n",
       "      <td>Cartier wristwatch</td>\n",
       "      <td>3 day auction</td>\n",
       "    </tr>\n",
       "  </tbody>\n",
       "</table>\n",
       "</div>"
      ],
      "text/plain": [
       "            openbid                item   auction_type\n",
       "auctionid                                             \n",
       "1638843936    500.0  Cartier wristwatch  7 day auction\n",
       "1638844284    200.0  Cartier wristwatch  7 day auction\n",
       "1638844464    300.0  Cartier wristwatch  7 day auction\n",
       "1638844729    225.0  Cartier wristwatch  7 day auction\n",
       "1638893549     99.0  Cartier wristwatch  3 day auction"
      ]
     },
     "execution_count": 46,
     "metadata": {},
     "output_type": "execute_result"
    }
   ],
   "source": [
    "#drop the row that has openbid=5000.0\n",
    "value_list = [5000.0]\n",
    "open_bid1=open_bid[~open_bid.openbid.isin(value_list)]\n",
    "open_bid1.head()"
   ]
  },
  {
   "cell_type": "markdown",
   "metadata": {},
   "source": [
    "### Distribution plot\n",
    ">Introduction of sns.displot function: 'sns.displot function combines the matplotlib hist function (with automatic calculation of a good default bin size) with the seaborn :func:kdeplotand :func:rugplot functions.)'"
   ]
  },
  {
   "cell_type": "code",
   "execution_count": 47,
   "metadata": {},
   "outputs": [
    {
     "name": "stderr",
     "output_type": "stream",
     "text": [
      "/Users/rajusunkara/Documents/anakonda/anaconda3/lib/python3.6/site-packages/ipykernel_launcher.py:2: UserWarning: Boolean Series key will be reindexed to match DataFrame index.\n",
      "  \n",
      "/Users/rajusunkara/Documents/anakonda/anaconda3/lib/python3.6/site-packages/ipykernel_launcher.py:3: UserWarning: Boolean Series key will be reindexed to match DataFrame index.\n",
      "  This is separate from the ipykernel package so we can avoid doing imports until\n",
      "/Users/rajusunkara/Documents/anakonda/anaconda3/lib/python3.6/site-packages/ipykernel_launcher.py:4: UserWarning: Boolean Series key will be reindexed to match DataFrame index.\n",
      "  after removing the cwd from sys.path.\n"
     ]
    },
    {
     "data": {
      "text/plain": [
       "<matplotlib.legend.Legend at 0x1a1ce37908>"
      ]
     },
     "execution_count": 47,
     "metadata": {},
     "output_type": "execute_result"
    },
    {
     "data": {
      "image/png": "[encoded data removed]",
      "text/plain": [
       "<Figure size 720x648 with 1 Axes>"
      ]
     },
     "metadata": {},
     "output_type": "display_data"
    }
   ],
   "source": [
    "fig, ax = plt.subplots(figsize = (10, 9))\n",
    "sns.distplot(open_bid1[open_bid['item']=='Cartier wristwatch']['openbid'], kde=True,label=\"Cartier wristwatch\")\n",
    "sns.distplot(open_bid1[open_bid['item']=='Palm Pilot M515 PDA']['openbid'], kde=True,label=\"Palm Pilot M515 PDA\")\n",
    "sns.distplot(open_bid1[open_bid['item']=='Xbox game console']['openbid'], kde=True,label='Xbox game console')\n",
    "plt.legend()"
   ]
  },
  {
   "cell_type": "code",
   "execution_count": 48,
   "metadata": {},
   "outputs": [
    {
     "data": {
      "image/png": "[encoded data removed]",
      "text/plain": [
       "<Figure size 576x324 with 1 Axes>"
      ]
     },
     "metadata": {},
     "output_type": "display_data"
    }
   ],
   "source": [
    "fig, ax = plt.subplots(figsize = (8, 4.5))\n",
    "ax = sns.boxplot(x=\"item\", y=\"openbid\", data=open_bid1)"
   ]
  },
  {
   "cell_type": "code",
   "execution_count": 49,
   "metadata": {},
   "outputs": [
    {
     "data": {
      "text/plain": [
       "[(-20, 1000)]"
      ]
     },
     "execution_count": 49,
     "metadata": {},
     "output_type": "execute_result"
    },
    {
     "data": {
      "image/png": "[encoded data removed]",
      "text/plain": [
       "<Figure size 576x324 with 1 Axes>"
      ]
     },
     "metadata": {},
     "output_type": "display_data"
    }
   ],
   "source": [
    "fig, ax = plt.subplots(figsize = (8, 4.5))\n",
    "ax = sns.boxplot(x=\"item\", y=\"openbid\", data=open_bid1)\n",
    "ax.set(ylim=(-20, 1000))"
   ]
  },
  {
   "cell_type": "markdown",
   "metadata": {},
   "source": [
    ">Since the distribution of open bid for Cartier wristwatch is skewed to the right, a median comparison of open bid price for different types of items is better."
   ]
  },
  {
   "cell_type": "code",
   "execution_count": 50,
   "metadata": {},
   "outputs": [
    {
     "data": {
      "text/plain": [
       "item\n",
       "Cartier wristwatch     99.00\n",
       "Palm Pilot M515 PDA     9.99\n",
       "Xbox game console      29.99\n",
       "Name: openbid, dtype: float64"
      ]
     },
     "execution_count": 50,
     "metadata": {},
     "output_type": "execute_result"
    }
   ],
   "source": [
    "open_bid1.groupby('item')['openbid'].median()"
   ]
  },
  {
   "cell_type": "code",
   "execution_count": 51,
   "metadata": {},
   "outputs": [
    {
     "data": {
      "text/plain": [
       "item\n",
       "Cartier wristwatch     231.961630\n",
       "Palm Pilot M515 PDA     77.245044\n",
       "Xbox game console       39.319060\n",
       "Name: openbid, dtype: float64"
      ]
     },
     "execution_count": 51,
     "metadata": {},
     "output_type": "execute_result"
    }
   ],
   "source": [
    "open_bid1.groupby('item')['openbid'].mean()"
   ]
  },
  {
   "cell_type": "code",
   "execution_count": 52,
   "metadata": {},
   "outputs": [
    {
     "data": {
      "text/plain": [
       "item\n",
       "Cartier wristwatch     159414.387191\n",
       "Palm Pilot M515 PDA      8409.336510\n",
       "Xbox game console        1520.883494\n",
       "Name: openbid, dtype: float64"
      ]
     },
     "execution_count": 52,
     "metadata": {},
     "output_type": "execute_result"
    }
   ],
   "source": [
    "open_bid1.groupby('item')['openbid'].var()"
   ]
  },
  {
   "cell_type": "markdown",
   "metadata": {},
   "source": [
    "### We're going to use Anova test to see if different items/aution types have significant difference in open bid.\n",
    "\n",
    "## One way ANOVA"
   ]
  },
  {
   "cell_type": "code",
   "execution_count": 53,
   "metadata": {},
   "outputs": [
    {
     "name": "stdout",
     "output_type": "stream",
     "text": [
      "One-way ANOVA P = 8.970577459154614e-17\n"
     ]
    }
   ],
   "source": [
    "# compute one-way ANOVA P value   \n",
    "from scipy import stats  \n",
    "watch=open_bid1[open_bid1['item']=='Cartier wristwatch']['openbid']\n",
    "PDA=open_bid1[open_bid1['item']=='Palm Pilot M515 PDA']['openbid']\n",
    "console=open_bid1[open_bid1['item']=='Xbox game console']['openbid']\n",
    "\n",
    "f_val, p_val = stats.f_oneway(watch, PDA, console)  \n",
    "  \n",
    "print(\"One-way ANOVA P =\", p_val)"
   ]
  },
  {
   "cell_type": "markdown",
   "metadata": {},
   "source": [
    ">With a p-value less than 0.05, we are confident enough to conclude that **differnt types of items are statistically different in average open bid**.\n",
    "\n",
    ">From the boxplot and analysis above, we can see that **Cartier wristwatch has a much higher median open bid than Palm Pilot and Xbox game console.The distribution of open bid for Cartier wristwatch is more disperse as well. **"
   ]
  },
  {
   "cell_type": "code",
   "execution_count": 54,
   "metadata": {},
   "outputs": [
    {
     "name": "stdout",
     "output_type": "stream",
     "text": [
      "One-way ANOVA P = 0.21555161920800445\n"
     ]
    }
   ],
   "source": [
    "seven_days=open_bid1[open_bid1['auction_type']=='7 day auction']['openbid']\n",
    "five_days=open_bid1[open_bid1['auction_type']=='5 day auction']['openbid']\n",
    "three_days=open_bid1[open_bid1['auction_type']=='3 day auction']['openbid']\n",
    "\n",
    "f_val, p_val = stats.f_oneway(seven_days, five_days, three_days)  \n",
    "  \n",
    "print(\"One-way ANOVA P =\", p_val)"
   ]
  },
  {
   "cell_type": "markdown",
   "metadata": {},
   "source": [
    "### With a p-value greater than 0.05, we failed to reject that items with differnt aution types are statistically differnt in open bid. **Different auction types are not statistically different in average open bid.**\n",
    "\n",
    "## 2.4 Analysis of ending price"
   ]
  },
  {
   "cell_type": "code",
   "execution_count": 55,
   "metadata": {},
   "outputs": [
    {
     "data": {
      "text/html": [
       "<div>\n",
       "<style scoped>\n",
       "    .dataframe tbody tr th:only-of-type {\n",
       "        vertical-align: middle;\n",
       "    }\n",
       "\n",
       "    .dataframe tbody tr th {\n",
       "        vertical-align: top;\n",
       "    }\n",
       "\n",
       "    .dataframe thead th {\n",
       "        text-align: right;\n",
       "    }\n",
       "</style>\n",
       "<table border=\"1\" class=\"dataframe\">\n",
       "  <thead>\n",
       "    <tr style=\"text-align: right;\">\n",
       "      <th></th>\n",
       "      <th>openbid</th>\n",
       "      <th>price</th>\n",
       "      <th>item</th>\n",
       "      <th>auction_type</th>\n",
       "    </tr>\n",
       "    <tr>\n",
       "      <th>auctionid</th>\n",
       "      <th></th>\n",
       "      <th></th>\n",
       "      <th></th>\n",
       "      <th></th>\n",
       "    </tr>\n",
       "  </thead>\n",
       "  <tbody>\n",
       "    <tr>\n",
       "      <th>1638843936</th>\n",
       "      <td>500.0</td>\n",
       "      <td>1625.0</td>\n",
       "      <td>Cartier wristwatch</td>\n",
       "      <td>7 day auction</td>\n",
       "    </tr>\n",
       "    <tr>\n",
       "      <th>1638844284</th>\n",
       "      <td>200.0</td>\n",
       "      <td>500.0</td>\n",
       "      <td>Cartier wristwatch</td>\n",
       "      <td>7 day auction</td>\n",
       "    </tr>\n",
       "    <tr>\n",
       "      <th>1638844464</th>\n",
       "      <td>300.0</td>\n",
       "      <td>740.0</td>\n",
       "      <td>Cartier wristwatch</td>\n",
       "      <td>7 day auction</td>\n",
       "    </tr>\n",
       "    <tr>\n",
       "      <th>1638844729</th>\n",
       "      <td>225.0</td>\n",
       "      <td>320.0</td>\n",
       "      <td>Cartier wristwatch</td>\n",
       "      <td>7 day auction</td>\n",
       "    </tr>\n",
       "    <tr>\n",
       "      <th>1638893549</th>\n",
       "      <td>99.0</td>\n",
       "      <td>177.5</td>\n",
       "      <td>Cartier wristwatch</td>\n",
       "      <td>3 day auction</td>\n",
       "    </tr>\n",
       "  </tbody>\n",
       "</table>\n",
       "</div>"
      ],
      "text/plain": [
       "            openbid   price                item   auction_type\n",
       "auctionid                                                     \n",
       "1638843936    500.0  1625.0  Cartier wristwatch  7 day auction\n",
       "1638844284    200.0   500.0  Cartier wristwatch  7 day auction\n",
       "1638844464    300.0   740.0  Cartier wristwatch  7 day auction\n",
       "1638844729    225.0   320.0  Cartier wristwatch  7 day auction\n",
       "1638893549     99.0   177.5  Cartier wristwatch  3 day auction"
      ]
     },
     "execution_count": 55,
     "metadata": {},
     "output_type": "execute_result"
    }
   ],
   "source": [
    "pct_change=auction[['auctionid','openbid','price','item','auction_type']].groupby(['auctionid']).last()\n",
    "pct_change.head()"
   ]
  },
  {
   "cell_type": "code",
   "execution_count": 56,
   "metadata": {},
   "outputs": [
    {
     "data": {
      "text/plain": [
       "item\n",
       "Cartier wristwatch     510.00\n",
       "Palm Pilot M515 PDA    231.50\n",
       "Xbox game console      123.15\n",
       "Name: price, dtype: float64"
      ]
     },
     "execution_count": 56,
     "metadata": {},
     "output_type": "execute_result"
    }
   ],
   "source": [
    "pct_change.groupby('item')['price'].median()"
   ]
  },
  {
   "cell_type": "code",
   "execution_count": 57,
   "metadata": {},
   "outputs": [
    {
     "data": {
      "text/plain": [
       "item\n",
       "Cartier wristwatch     884.557353\n",
       "Palm Pilot M515 PDA    229.083586\n",
       "Xbox game console      131.414027\n",
       "Name: price, dtype: float64"
      ]
     },
     "execution_count": 57,
     "metadata": {},
     "output_type": "execute_result"
    }
   ],
   "source": [
    "pct_change.groupby('item')['price'].mean()"
   ]
  },
  {
   "cell_type": "code",
   "execution_count": 58,
   "metadata": {},
   "outputs": [
    {
     "data": {
      "text/plain": [
       "item\n",
       "Cartier wristwatch     692948.065759\n",
       "Palm Pilot M515 PDA       482.505232\n",
       "Xbox game console        4036.669581\n",
       "Name: price, dtype: float64"
      ]
     },
     "execution_count": 58,
     "metadata": {},
     "output_type": "execute_result"
    }
   ],
   "source": [
    "pct_change.groupby('item')['price'].var()"
   ]
  },
  {
   "cell_type": "markdown",
   "metadata": {},
   "source": [
    "## Part 3 Relation between variables\n",
    ">From the perspective of sellers, to attract more bids and generate more percentage increase in price, they want to know\n",
    "\n",
    " -how long should they set their auction\n",
    " \n",
    " -how they should set their open bid\n",
    "\n",
    "### 3.1 Is there any relationship between open bid and bid times?\n",
    ">Does a lower opening bid set by the seller attract more bids on the auction?\n",
    "\n",
    "#### Correlation coefficient\n",
    "\n",
    ">Is a lower open bid correlated with more people placing a bid on the item?"
   ]
  },
  {
   "cell_type": "code",
   "execution_count": 59,
   "metadata": {},
   "outputs": [
    {
     "data": {
      "text/html": [
       "<div>\n",
       "<style scoped>\n",
       "    .dataframe tbody tr th:only-of-type {\n",
       "        vertical-align: middle;\n",
       "    }\n",
       "\n",
       "    .dataframe tbody tr th {\n",
       "        vertical-align: top;\n",
       "    }\n",
       "\n",
       "    .dataframe thead th {\n",
       "        text-align: right;\n",
       "    }\n",
       "</style>\n",
       "<table border=\"1\" class=\"dataframe\">\n",
       "  <thead>\n",
       "    <tr style=\"text-align: right;\">\n",
       "      <th></th>\n",
       "      <th>auctionid</th>\n",
       "      <th>bid</th>\n",
       "      <th>bidtime</th>\n",
       "      <th>bidder</th>\n",
       "      <th>bidderrate</th>\n",
       "      <th>openbid</th>\n",
       "      <th>price</th>\n",
       "      <th>item</th>\n",
       "      <th>auction_type</th>\n",
       "    </tr>\n",
       "  </thead>\n",
       "  <tbody>\n",
       "    <tr>\n",
       "      <th>0</th>\n",
       "      <td>1638893549</td>\n",
       "      <td>175.0</td>\n",
       "      <td>2.230949</td>\n",
       "      <td>schadenfreud</td>\n",
       "      <td>0.0</td>\n",
       "      <td>99.0</td>\n",
       "      <td>177.5</td>\n",
       "      <td>Cartier wristwatch</td>\n",
       "      <td>3 day auction</td>\n",
       "    </tr>\n",
       "    <tr>\n",
       "      <th>1</th>\n",
       "      <td>1638893549</td>\n",
       "      <td>100.0</td>\n",
       "      <td>2.600116</td>\n",
       "      <td>chuik</td>\n",
       "      <td>0.0</td>\n",
       "      <td>99.0</td>\n",
       "      <td>177.5</td>\n",
       "      <td>Cartier wristwatch</td>\n",
       "      <td>3 day auction</td>\n",
       "    </tr>\n",
       "    <tr>\n",
       "      <th>2</th>\n",
       "      <td>1638893549</td>\n",
       "      <td>120.0</td>\n",
       "      <td>2.600810</td>\n",
       "      <td>kiwisstuff</td>\n",
       "      <td>2.0</td>\n",
       "      <td>99.0</td>\n",
       "      <td>177.5</td>\n",
       "      <td>Cartier wristwatch</td>\n",
       "      <td>3 day auction</td>\n",
       "    </tr>\n",
       "    <tr>\n",
       "      <th>3</th>\n",
       "      <td>1638893549</td>\n",
       "      <td>150.0</td>\n",
       "      <td>2.601076</td>\n",
       "      <td>kiwisstuff</td>\n",
       "      <td>2.0</td>\n",
       "      <td>99.0</td>\n",
       "      <td>177.5</td>\n",
       "      <td>Cartier wristwatch</td>\n",
       "      <td>3 day auction</td>\n",
       "    </tr>\n",
       "    <tr>\n",
       "      <th>4</th>\n",
       "      <td>1638893549</td>\n",
       "      <td>177.5</td>\n",
       "      <td>2.909826</td>\n",
       "      <td>eli.flint@flightsafety.co</td>\n",
       "      <td>4.0</td>\n",
       "      <td>99.0</td>\n",
       "      <td>177.5</td>\n",
       "      <td>Cartier wristwatch</td>\n",
       "      <td>3 day auction</td>\n",
       "    </tr>\n",
       "  </tbody>\n",
       "</table>\n",
       "</div>"
      ],
      "text/plain": [
       "    auctionid    bid   bidtime                     bidder  bidderrate  \\\n",
       "0  1638893549  175.0  2.230949               schadenfreud         0.0   \n",
       "1  1638893549  100.0  2.600116                      chuik         0.0   \n",
       "2  1638893549  120.0  2.600810                 kiwisstuff         2.0   \n",
       "3  1638893549  150.0  2.601076                 kiwisstuff         2.0   \n",
       "4  1638893549  177.5  2.909826  eli.flint@flightsafety.co         4.0   \n",
       "\n",
       "   openbid  price                item   auction_type  \n",
       "0     99.0  177.5  Cartier wristwatch  3 day auction  \n",
       "1     99.0  177.5  Cartier wristwatch  3 day auction  \n",
       "2     99.0  177.5  Cartier wristwatch  3 day auction  \n",
       "3     99.0  177.5  Cartier wristwatch  3 day auction  \n",
       "4     99.0  177.5  Cartier wristwatch  3 day auction  "
      ]
     },
     "execution_count": 59,
     "metadata": {},
     "output_type": "execute_result"
    }
   ],
   "source": [
    "auction.head()"
   ]
  },
  {
   "cell_type": "markdown",
   "metadata": {},
   "source": [
    "### num_bidds refers to the number of bids an auction has during its auction period."
   ]
  },
  {
   "cell_type": "code",
   "execution_count": 60,
   "metadata": {},
   "outputs": [
    {
     "data": {
      "text/html": [
       "<div>\n",
       "<style scoped>\n",
       "    .dataframe tbody tr th:only-of-type {\n",
       "        vertical-align: middle;\n",
       "    }\n",
       "\n",
       "    .dataframe tbody tr th {\n",
       "        vertical-align: top;\n",
       "    }\n",
       "\n",
       "    .dataframe thead th {\n",
       "        text-align: right;\n",
       "    }\n",
       "</style>\n",
       "<table border=\"1\" class=\"dataframe\">\n",
       "  <thead>\n",
       "    <tr style=\"text-align: right;\">\n",
       "      <th></th>\n",
       "      <th>num_bids</th>\n",
       "    </tr>\n",
       "    <tr>\n",
       "      <th>auctionid</th>\n",
       "      <th></th>\n",
       "    </tr>\n",
       "  </thead>\n",
       "  <tbody>\n",
       "    <tr>\n",
       "      <th>1638843936</th>\n",
       "      <td>7</td>\n",
       "    </tr>\n",
       "    <tr>\n",
       "      <th>1638844284</th>\n",
       "      <td>2</td>\n",
       "    </tr>\n",
       "    <tr>\n",
       "      <th>1638844464</th>\n",
       "      <td>16</td>\n",
       "    </tr>\n",
       "    <tr>\n",
       "      <th>1638844729</th>\n",
       "      <td>11</td>\n",
       "    </tr>\n",
       "    <tr>\n",
       "      <th>1638893549</th>\n",
       "      <td>5</td>\n",
       "    </tr>\n",
       "  </tbody>\n",
       "</table>\n",
       "</div>"
      ],
      "text/plain": [
       "            num_bids\n",
       "auctionid           \n",
       "1638843936         7\n",
       "1638844284         2\n",
       "1638844464        16\n",
       "1638844729        11\n",
       "1638893549         5"
      ]
     },
     "execution_count": 60,
     "metadata": {},
     "output_type": "execute_result"
    }
   ],
   "source": [
    "num_bids=auction.groupby('auctionid')['bidder'].count()\n",
    "num_bids=num_bids.to_frame()\n",
    "num_bids.columns=['num_bids']\n",
    "num_bids.head()"
   ]
  },
  {
   "cell_type": "code",
   "execution_count": 61,
   "metadata": {},
   "outputs": [
    {
     "name": "stdout",
     "output_type": "stream",
     "text": [
      "<class 'pandas.core.frame.DataFrame'>\n",
      "Int64Index: 628 entries, 1638843936 to 8215610555\n",
      "Data columns (total 1 columns):\n",
      "num_bids    628 non-null int64\n",
      "dtypes: int64(1)\n",
      "memory usage: 9.8 KB\n"
     ]
    }
   ],
   "source": [
    "num_bids.info()"
   ]
  },
  {
   "cell_type": "code",
   "execution_count": 62,
   "metadata": {},
   "outputs": [
    {
     "data": {
      "text/html": [
       "<div>\n",
       "<style scoped>\n",
       "    .dataframe tbody tr th:only-of-type {\n",
       "        vertical-align: middle;\n",
       "    }\n",
       "\n",
       "    .dataframe tbody tr th {\n",
       "        vertical-align: top;\n",
       "    }\n",
       "\n",
       "    .dataframe thead th {\n",
       "        text-align: right;\n",
       "    }\n",
       "</style>\n",
       "<table border=\"1\" class=\"dataframe\">\n",
       "  <thead>\n",
       "    <tr style=\"text-align: right;\">\n",
       "      <th></th>\n",
       "      <th>openbid</th>\n",
       "      <th>item</th>\n",
       "      <th>auction_type</th>\n",
       "    </tr>\n",
       "    <tr>\n",
       "      <th>auctionid</th>\n",
       "      <th></th>\n",
       "      <th></th>\n",
       "      <th></th>\n",
       "    </tr>\n",
       "  </thead>\n",
       "  <tbody>\n",
       "    <tr>\n",
       "      <th>1638843936</th>\n",
       "      <td>500.0</td>\n",
       "      <td>Cartier wristwatch</td>\n",
       "      <td>7 day auction</td>\n",
       "    </tr>\n",
       "    <tr>\n",
       "      <th>1638844284</th>\n",
       "      <td>200.0</td>\n",
       "      <td>Cartier wristwatch</td>\n",
       "      <td>7 day auction</td>\n",
       "    </tr>\n",
       "    <tr>\n",
       "      <th>1638844464</th>\n",
       "      <td>300.0</td>\n",
       "      <td>Cartier wristwatch</td>\n",
       "      <td>7 day auction</td>\n",
       "    </tr>\n",
       "    <tr>\n",
       "      <th>1638844729</th>\n",
       "      <td>225.0</td>\n",
       "      <td>Cartier wristwatch</td>\n",
       "      <td>7 day auction</td>\n",
       "    </tr>\n",
       "    <tr>\n",
       "      <th>1638893549</th>\n",
       "      <td>99.0</td>\n",
       "      <td>Cartier wristwatch</td>\n",
       "      <td>3 day auction</td>\n",
       "    </tr>\n",
       "  </tbody>\n",
       "</table>\n",
       "</div>"
      ],
      "text/plain": [
       "            openbid                item   auction_type\n",
       "auctionid                                             \n",
       "1638843936    500.0  Cartier wristwatch  7 day auction\n",
       "1638844284    200.0  Cartier wristwatch  7 day auction\n",
       "1638844464    300.0  Cartier wristwatch  7 day auction\n",
       "1638844729    225.0  Cartier wristwatch  7 day auction\n",
       "1638893549     99.0  Cartier wristwatch  3 day auction"
      ]
     },
     "execution_count": 62,
     "metadata": {},
     "output_type": "execute_result"
    }
   ],
   "source": [
    "#open_bid1 is a dataframe that drops the extreme openbid value of 5,000\n",
    "open_bid1.head()"
   ]
  },
  {
   "cell_type": "code",
   "execution_count": 63,
   "metadata": {},
   "outputs": [],
   "source": [
    "num_bids=pd.merge(num_bids, open_bid1, left_index=True, right_index=True)"
   ]
  },
  {
   "cell_type": "code",
   "execution_count": 64,
   "metadata": {},
   "outputs": [
    {
     "data": {
      "text/html": [
       "<div>\n",
       "<style scoped>\n",
       "    .dataframe tbody tr th:only-of-type {\n",
       "        vertical-align: middle;\n",
       "    }\n",
       "\n",
       "    .dataframe tbody tr th {\n",
       "        vertical-align: top;\n",
       "    }\n",
       "\n",
       "    .dataframe thead th {\n",
       "        text-align: right;\n",
       "    }\n",
       "</style>\n",
       "<table border=\"1\" class=\"dataframe\">\n",
       "  <thead>\n",
       "    <tr style=\"text-align: right;\">\n",
       "      <th></th>\n",
       "      <th>num_bids</th>\n",
       "      <th>openbid</th>\n",
       "      <th>item</th>\n",
       "      <th>auction_type</th>\n",
       "    </tr>\n",
       "    <tr>\n",
       "      <th>auctionid</th>\n",
       "      <th></th>\n",
       "      <th></th>\n",
       "      <th></th>\n",
       "      <th></th>\n",
       "    </tr>\n",
       "  </thead>\n",
       "  <tbody>\n",
       "    <tr>\n",
       "      <th>8215558653</th>\n",
       "      <td>14</td>\n",
       "      <td>55.00</td>\n",
       "      <td>Xbox game console</td>\n",
       "      <td>3 day auction</td>\n",
       "    </tr>\n",
       "    <tr>\n",
       "      <th>8215571039</th>\n",
       "      <td>20</td>\n",
       "      <td>50.00</td>\n",
       "      <td>Xbox game console</td>\n",
       "      <td>3 day auction</td>\n",
       "    </tr>\n",
       "    <tr>\n",
       "      <th>8215582227</th>\n",
       "      <td>16</td>\n",
       "      <td>60.00</td>\n",
       "      <td>Xbox game console</td>\n",
       "      <td>3 day auction</td>\n",
       "    </tr>\n",
       "    <tr>\n",
       "      <th>8215605488</th>\n",
       "      <td>11</td>\n",
       "      <td>0.99</td>\n",
       "      <td>Xbox game console</td>\n",
       "      <td>3 day auction</td>\n",
       "    </tr>\n",
       "    <tr>\n",
       "      <th>8215610555</th>\n",
       "      <td>14</td>\n",
       "      <td>5.00</td>\n",
       "      <td>Xbox game console</td>\n",
       "      <td>3 day auction</td>\n",
       "    </tr>\n",
       "  </tbody>\n",
       "</table>\n",
       "</div>"
      ],
      "text/plain": [
       "            num_bids  openbid               item   auction_type\n",
       "auctionid                                                      \n",
       "8215558653        14    55.00  Xbox game console  3 day auction\n",
       "8215571039        20    50.00  Xbox game console  3 day auction\n",
       "8215582227        16    60.00  Xbox game console  3 day auction\n",
       "8215605488        11     0.99  Xbox game console  3 day auction\n",
       "8215610555        14     5.00  Xbox game console  3 day auction"
      ]
     },
     "execution_count": 64,
     "metadata": {},
     "output_type": "execute_result"
    }
   ],
   "source": [
    "num_bids.tail()"
   ]
  },
  {
   "cell_type": "code",
   "execution_count": 65,
   "metadata": {},
   "outputs": [],
   "source": [
    "watch=num_bids[num_bids['item']=='Cartier wristwatch']\n",
    "xbox=num_bids[num_bids['item']=='Xbox game console']\n",
    "PDA=num_bids[num_bids['item']=='Palm Pilot M515 PDA']"
   ]
  },
  {
   "cell_type": "markdown",
   "metadata": {},
   "source": [
    "#### Since from the scatter plot, I noticed that the relation between num_bids and open bid for different tyes of itmes are not linear, Spearman's correlation is more appropriate for measuring increasing or decreasing trends."
   ]
  },
  {
   "cell_type": "code",
   "execution_count": 67,
   "metadata": {},
   "outputs": [
    {
     "name": "stderr",
     "output_type": "stream",
     "text": [
      "/Users/rajusunkara/Documents/anakonda/anaconda3/lib/python3.6/site-packages/seaborn/axisgrid.py:1847: UserWarning: JointGrid annotation is deprecated and will be removed in a future release.\n",
      "  warnings.warn(UserWarning(msg))\n"
     ]
    },
    {
     "data": {
      "image/png": "[encoded data removed]",
      "text/plain": [
       "<Figure size 432x432 with 3 Axes>"
      ]
     },
     "metadata": {},
     "output_type": "display_data"
    }
   ],
   "source": [
    "from scipy.stats import spearmanr\n",
    "g = sns.jointplot(x='num_bids', y=\"openbid\", data=xbox,stat_func=spearmanr)"
   ]
  },
  {
   "cell_type": "code",
   "execution_count": 69,
   "metadata": {},
   "outputs": [
    {
     "name": "stderr",
     "output_type": "stream",
     "text": [
      "/Users/rajusunkara/Documents/anakonda/anaconda3/lib/python3.6/site-packages/seaborn/axisgrid.py:1847: UserWarning: JointGrid annotation is deprecated and will be removed in a future release.\n",
      "  warnings.warn(UserWarning(msg))\n"
     ]
    },
    {
     "data": {
      "image/png": "[encoded data removed]",
      "text/plain": [
       "<Figure size 432x432 with 3 Axes>"
      ]
     },
     "metadata": {},
     "output_type": "display_data"
    }
   ],
   "source": [
    "g = sns.jointplot(x='num_bids', y=\"openbid\", data=PDA,stat_func=spearmanr)"
   ]
  },
  {
   "cell_type": "markdown",
   "metadata": {},
   "source": [
    "#### In gneral, number of bids is strongly negatively correlated with open bid price set by the seller, with a spearmanr correlation coefficient of -0.71. That is to say, **an auction with high open bid tends to attract fewer bids**.\n",
    "\n",
    ">Besides, spearman correlation for watch is the weakest and strongest for PDA, which may be a result of outliers or larger variation in watch as well."
   ]
  },
  {
   "cell_type": "code",
   "execution_count": 71,
   "metadata": {},
   "outputs": [
    {
     "data": {
      "text/html": [
       "<div>\n",
       "<style scoped>\n",
       "    .dataframe tbody tr th:only-of-type {\n",
       "        vertical-align: middle;\n",
       "    }\n",
       "\n",
       "    .dataframe tbody tr th {\n",
       "        vertical-align: top;\n",
       "    }\n",
       "\n",
       "    .dataframe thead th {\n",
       "        text-align: right;\n",
       "    }\n",
       "</style>\n",
       "<table border=\"1\" class=\"dataframe\">\n",
       "  <thead>\n",
       "    <tr style=\"text-align: right;\">\n",
       "      <th></th>\n",
       "      <th></th>\n",
       "      <th>num_bids</th>\n",
       "      <th>openbid</th>\n",
       "    </tr>\n",
       "    <tr>\n",
       "      <th>item</th>\n",
       "      <th></th>\n",
       "      <th></th>\n",
       "      <th></th>\n",
       "    </tr>\n",
       "  </thead>\n",
       "  <tbody>\n",
       "    <tr>\n",
       "      <th rowspan=\"2\" valign=\"top\">Cartier wristwatch</th>\n",
       "      <th>num_bids</th>\n",
       "      <td>1.000000</td>\n",
       "      <td>-0.361051</td>\n",
       "    </tr>\n",
       "    <tr>\n",
       "      <th>openbid</th>\n",
       "      <td>-0.361051</td>\n",
       "      <td>1.000000</td>\n",
       "    </tr>\n",
       "    <tr>\n",
       "      <th rowspan=\"2\" valign=\"top\">Palm Pilot M515 PDA</th>\n",
       "      <th>num_bids</th>\n",
       "      <td>1.000000</td>\n",
       "      <td>-0.775424</td>\n",
       "    </tr>\n",
       "    <tr>\n",
       "      <th>openbid</th>\n",
       "      <td>-0.775424</td>\n",
       "      <td>1.000000</td>\n",
       "    </tr>\n",
       "    <tr>\n",
       "      <th rowspan=\"2\" valign=\"top\">Xbox game console</th>\n",
       "      <th>num_bids</th>\n",
       "      <td>1.000000</td>\n",
       "      <td>-0.575937</td>\n",
       "    </tr>\n",
       "    <tr>\n",
       "      <th>openbid</th>\n",
       "      <td>-0.575937</td>\n",
       "      <td>1.000000</td>\n",
       "    </tr>\n",
       "  </tbody>\n",
       "</table>\n",
       "</div>"
      ],
      "text/plain": [
       "                              num_bids   openbid\n",
       "item                                            \n",
       "Cartier wristwatch  num_bids  1.000000 -0.361051\n",
       "                    openbid  -0.361051  1.000000\n",
       "Palm Pilot M515 PDA num_bids  1.000000 -0.775424\n",
       "                    openbid  -0.775424  1.000000\n",
       "Xbox game console   num_bids  1.000000 -0.575937\n",
       "                    openbid  -0.575937  1.000000"
      ]
     },
     "execution_count": 71,
     "metadata": {},
     "output_type": "execute_result"
    }
   ],
   "source": [
    "num_bids.groupby('item').corr()"
   ]
  },
  {
   "cell_type": "markdown",
   "metadata": {},
   "source": [
    ">**Correlation of number of bidders with open bid is the strongest for Palm Pilot and weakest for Cartier wristwatch. **"
   ]
  },
  {
   "cell_type": "code",
   "execution_count": 72,
   "metadata": {},
   "outputs": [
    {
     "data": {
      "text/html": [
       "<div>\n",
       "<style scoped>\n",
       "    .dataframe tbody tr th:only-of-type {\n",
       "        vertical-align: middle;\n",
       "    }\n",
       "\n",
       "    .dataframe tbody tr th {\n",
       "        vertical-align: top;\n",
       "    }\n",
       "\n",
       "    .dataframe thead th {\n",
       "        text-align: right;\n",
       "    }\n",
       "</style>\n",
       "<table border=\"1\" class=\"dataframe\">\n",
       "  <thead>\n",
       "    <tr style=\"text-align: right;\">\n",
       "      <th></th>\n",
       "      <th></th>\n",
       "      <th>num_bids</th>\n",
       "      <th>openbid</th>\n",
       "    </tr>\n",
       "    <tr>\n",
       "      <th>auction_type</th>\n",
       "      <th></th>\n",
       "      <th></th>\n",
       "      <th></th>\n",
       "    </tr>\n",
       "  </thead>\n",
       "  <tbody>\n",
       "    <tr>\n",
       "      <th rowspan=\"2\" valign=\"top\">3 day auction</th>\n",
       "      <th>num_bids</th>\n",
       "      <td>1.000000</td>\n",
       "      <td>-0.740512</td>\n",
       "    </tr>\n",
       "    <tr>\n",
       "      <th>openbid</th>\n",
       "      <td>-0.740512</td>\n",
       "      <td>1.000000</td>\n",
       "    </tr>\n",
       "    <tr>\n",
       "      <th rowspan=\"2\" valign=\"top\">5 day auction</th>\n",
       "      <th>num_bids</th>\n",
       "      <td>1.000000</td>\n",
       "      <td>-0.653502</td>\n",
       "    </tr>\n",
       "    <tr>\n",
       "      <th>openbid</th>\n",
       "      <td>-0.653502</td>\n",
       "      <td>1.000000</td>\n",
       "    </tr>\n",
       "    <tr>\n",
       "      <th rowspan=\"2\" valign=\"top\">7 day auction</th>\n",
       "      <th>num_bids</th>\n",
       "      <td>1.000000</td>\n",
       "      <td>-0.666724</td>\n",
       "    </tr>\n",
       "    <tr>\n",
       "      <th>openbid</th>\n",
       "      <td>-0.666724</td>\n",
       "      <td>1.000000</td>\n",
       "    </tr>\n",
       "  </tbody>\n",
       "</table>\n",
       "</div>"
      ],
      "text/plain": [
       "                        num_bids   openbid\n",
       "auction_type                              \n",
       "3 day auction num_bids  1.000000 -0.740512\n",
       "              openbid  -0.740512  1.000000\n",
       "5 day auction num_bids  1.000000 -0.653502\n",
       "              openbid  -0.653502  1.000000\n",
       "7 day auction num_bids  1.000000 -0.666724\n",
       "              openbid  -0.666724  1.000000"
      ]
     },
     "execution_count": 72,
     "metadata": {},
     "output_type": "execute_result"
    }
   ],
   "source": [
    "num_bids.groupby('auction_type').corr(method='spearman')"
   ]
  },
  {
   "cell_type": "markdown",
   "metadata": {},
   "source": [
    "> **Differences of correlation between open bid and number of bidders are less significant among differnt auction types.**"
   ]
  },
  {
   "cell_type": "code",
   "execution_count": 74,
   "metadata": {},
   "outputs": [
    {
     "data": {
      "text/html": [
       "<div>\n",
       "<style scoped>\n",
       "    .dataframe tbody tr th:only-of-type {\n",
       "        vertical-align: middle;\n",
       "    }\n",
       "\n",
       "    .dataframe tbody tr th {\n",
       "        vertical-align: top;\n",
       "    }\n",
       "\n",
       "    .dataframe thead th {\n",
       "        text-align: right;\n",
       "    }\n",
       "</style>\n",
       "<table border=\"1\" class=\"dataframe\">\n",
       "  <thead>\n",
       "    <tr style=\"text-align: right;\">\n",
       "      <th></th>\n",
       "      <th></th>\n",
       "      <th></th>\n",
       "      <th>num_bids</th>\n",
       "      <th>openbid</th>\n",
       "    </tr>\n",
       "    <tr>\n",
       "      <th>auction_type</th>\n",
       "      <th>item</th>\n",
       "      <th></th>\n",
       "      <th></th>\n",
       "      <th></th>\n",
       "    </tr>\n",
       "  </thead>\n",
       "  <tbody>\n",
       "    <tr>\n",
       "      <th rowspan=\"6\" valign=\"top\">3 day auction</th>\n",
       "      <th rowspan=\"2\" valign=\"top\">Cartier wristwatch</th>\n",
       "      <th>num_bids</th>\n",
       "      <td>1.000000</td>\n",
       "      <td>-0.132814</td>\n",
       "    </tr>\n",
       "    <tr>\n",
       "      <th>openbid</th>\n",
       "      <td>-0.132814</td>\n",
       "      <td>1.000000</td>\n",
       "    </tr>\n",
       "    <tr>\n",
       "      <th rowspan=\"2\" valign=\"top\">Palm Pilot M515 PDA</th>\n",
       "      <th>num_bids</th>\n",
       "      <td>1.000000</td>\n",
       "      <td>-0.794222</td>\n",
       "    </tr>\n",
       "    <tr>\n",
       "      <th>openbid</th>\n",
       "      <td>-0.794222</td>\n",
       "      <td>1.000000</td>\n",
       "    </tr>\n",
       "    <tr>\n",
       "      <th rowspan=\"2\" valign=\"top\">Xbox game console</th>\n",
       "      <th>num_bids</th>\n",
       "      <td>1.000000</td>\n",
       "      <td>-0.777692</td>\n",
       "    </tr>\n",
       "    <tr>\n",
       "      <th>openbid</th>\n",
       "      <td>-0.777692</td>\n",
       "      <td>1.000000</td>\n",
       "    </tr>\n",
       "    <tr>\n",
       "      <th rowspan=\"6\" valign=\"top\">5 day auction</th>\n",
       "      <th rowspan=\"2\" valign=\"top\">Cartier wristwatch</th>\n",
       "      <th>num_bids</th>\n",
       "      <td>1.000000</td>\n",
       "      <td>-0.494764</td>\n",
       "    </tr>\n",
       "    <tr>\n",
       "      <th>openbid</th>\n",
       "      <td>-0.494764</td>\n",
       "      <td>1.000000</td>\n",
       "    </tr>\n",
       "    <tr>\n",
       "      <th rowspan=\"2\" valign=\"top\">Palm Pilot M515 PDA</th>\n",
       "      <th>num_bids</th>\n",
       "      <td>1.000000</td>\n",
       "      <td>-0.779264</td>\n",
       "    </tr>\n",
       "    <tr>\n",
       "      <th>openbid</th>\n",
       "      <td>-0.779264</td>\n",
       "      <td>1.000000</td>\n",
       "    </tr>\n",
       "    <tr>\n",
       "      <th rowspan=\"2\" valign=\"top\">Xbox game console</th>\n",
       "      <th>num_bids</th>\n",
       "      <td>1.000000</td>\n",
       "      <td>-0.524314</td>\n",
       "    </tr>\n",
       "    <tr>\n",
       "      <th>openbid</th>\n",
       "      <td>-0.524314</td>\n",
       "      <td>1.000000</td>\n",
       "    </tr>\n",
       "    <tr>\n",
       "      <th rowspan=\"6\" valign=\"top\">7 day auction</th>\n",
       "      <th rowspan=\"2\" valign=\"top\">Cartier wristwatch</th>\n",
       "      <th>num_bids</th>\n",
       "      <td>1.000000</td>\n",
       "      <td>-0.580718</td>\n",
       "    </tr>\n",
       "    <tr>\n",
       "      <th>openbid</th>\n",
       "      <td>-0.580718</td>\n",
       "      <td>1.000000</td>\n",
       "    </tr>\n",
       "    <tr>\n",
       "      <th rowspan=\"2\" valign=\"top\">Palm Pilot M515 PDA</th>\n",
       "      <th>num_bids</th>\n",
       "      <td>1.000000</td>\n",
       "      <td>-0.661140</td>\n",
       "    </tr>\n",
       "    <tr>\n",
       "      <th>openbid</th>\n",
       "      <td>-0.661140</td>\n",
       "      <td>1.000000</td>\n",
       "    </tr>\n",
       "    <tr>\n",
       "      <th rowspan=\"2\" valign=\"top\">Xbox game console</th>\n",
       "      <th>num_bids</th>\n",
       "      <td>1.000000</td>\n",
       "      <td>-0.635826</td>\n",
       "    </tr>\n",
       "    <tr>\n",
       "      <th>openbid</th>\n",
       "      <td>-0.635826</td>\n",
       "      <td>1.000000</td>\n",
       "    </tr>\n",
       "  </tbody>\n",
       "</table>\n",
       "</div>"
      ],
      "text/plain": [
       "                                            num_bids   openbid\n",
       "auction_type  item                                            \n",
       "3 day auction Cartier wristwatch  num_bids  1.000000 -0.132814\n",
       "                                  openbid  -0.132814  1.000000\n",
       "              Palm Pilot M515 PDA num_bids  1.000000 -0.794222\n",
       "                                  openbid  -0.794222  1.000000\n",
       "              Xbox game console   num_bids  1.000000 -0.777692\n",
       "                                  openbid  -0.777692  1.000000\n",
       "5 day auction Cartier wristwatch  num_bids  1.000000 -0.494764\n",
       "                                  openbid  -0.494764  1.000000\n",
       "              Palm Pilot M515 PDA num_bids  1.000000 -0.779264\n",
       "                                  openbid  -0.779264  1.000000\n",
       "              Xbox game console   num_bids  1.000000 -0.524314\n",
       "                                  openbid  -0.524314  1.000000\n",
       "7 day auction Cartier wristwatch  num_bids  1.000000 -0.580718\n",
       "                                  openbid  -0.580718  1.000000\n",
       "              Palm Pilot M515 PDA num_bids  1.000000 -0.661140\n",
       "                                  openbid  -0.661140  1.000000\n",
       "              Xbox game console   num_bids  1.000000 -0.635826\n",
       "                                  openbid  -0.635826  1.000000"
      ]
     },
     "execution_count": 74,
     "metadata": {},
     "output_type": "execute_result"
    }
   ],
   "source": [
    "num_bids.groupby(['auction_type','item']).corr(method='spearman')"
   ]
  },
  {
   "cell_type": "markdown",
   "metadata": {},
   "source": [
    "### 3.2 What's the relationship between auction types and number of bids?\n",
    "As shown before\n",
    "\n",
    "-Auctions with lower open bid tend to have a larger number of bids\n",
    "\n",
    "-Different auction types are not statistically different in open bid\n",
    ">I would like to see whether the choice of auction type per se wil affect number of bids"
   ]
  },
  {
   "cell_type": "code",
   "execution_count": 75,
   "metadata": {},
   "outputs": [
    {
     "data": {
      "text/html": [
       "<div>\n",
       "<style scoped>\n",
       "    .dataframe tbody tr th:only-of-type {\n",
       "        vertical-align: middle;\n",
       "    }\n",
       "\n",
       "    .dataframe tbody tr th {\n",
       "        vertical-align: top;\n",
       "    }\n",
       "\n",
       "    .dataframe thead th {\n",
       "        text-align: right;\n",
       "    }\n",
       "</style>\n",
       "<table border=\"1\" class=\"dataframe\">\n",
       "  <thead>\n",
       "    <tr style=\"text-align: right;\">\n",
       "      <th></th>\n",
       "      <th>num_bids</th>\n",
       "      <th>openbid</th>\n",
       "      <th>item</th>\n",
       "      <th>auction_type</th>\n",
       "    </tr>\n",
       "    <tr>\n",
       "      <th>auctionid</th>\n",
       "      <th></th>\n",
       "      <th></th>\n",
       "      <th></th>\n",
       "      <th></th>\n",
       "    </tr>\n",
       "  </thead>\n",
       "  <tbody>\n",
       "    <tr>\n",
       "      <th>1638843936</th>\n",
       "      <td>7</td>\n",
       "      <td>500.0</td>\n",
       "      <td>Cartier wristwatch</td>\n",
       "      <td>7 day auction</td>\n",
       "    </tr>\n",
       "    <tr>\n",
       "      <th>1638844284</th>\n",
       "      <td>2</td>\n",
       "      <td>200.0</td>\n",
       "      <td>Cartier wristwatch</td>\n",
       "      <td>7 day auction</td>\n",
       "    </tr>\n",
       "    <tr>\n",
       "      <th>1638844464</th>\n",
       "      <td>16</td>\n",
       "      <td>300.0</td>\n",
       "      <td>Cartier wristwatch</td>\n",
       "      <td>7 day auction</td>\n",
       "    </tr>\n",
       "    <tr>\n",
       "      <th>1638844729</th>\n",
       "      <td>11</td>\n",
       "      <td>225.0</td>\n",
       "      <td>Cartier wristwatch</td>\n",
       "      <td>7 day auction</td>\n",
       "    </tr>\n",
       "    <tr>\n",
       "      <th>1638893549</th>\n",
       "      <td>5</td>\n",
       "      <td>99.0</td>\n",
       "      <td>Cartier wristwatch</td>\n",
       "      <td>3 day auction</td>\n",
       "    </tr>\n",
       "  </tbody>\n",
       "</table>\n",
       "</div>"
      ],
      "text/plain": [
       "            num_bids  openbid                item   auction_type\n",
       "auctionid                                                       \n",
       "1638843936         7    500.0  Cartier wristwatch  7 day auction\n",
       "1638844284         2    200.0  Cartier wristwatch  7 day auction\n",
       "1638844464        16    300.0  Cartier wristwatch  7 day auction\n",
       "1638844729        11    225.0  Cartier wristwatch  7 day auction\n",
       "1638893549         5     99.0  Cartier wristwatch  3 day auction"
      ]
     },
     "execution_count": 75,
     "metadata": {},
     "output_type": "execute_result"
    }
   ],
   "source": [
    "num_bids.head()"
   ]
  },
  {
   "cell_type": "code",
   "execution_count": 76,
   "metadata": {},
   "outputs": [
    {
     "data": {
      "text/plain": [
       "auction_type\n",
       "3 day auction    148\n",
       "5 day auction     96\n",
       "7 day auction    383\n",
       "Name: num_bids, dtype: int64"
      ]
     },
     "execution_count": 76,
     "metadata": {},
     "output_type": "execute_result"
    }
   ],
   "source": [
    "#number of auctions for each auction type \n",
    "num_bids.groupby('auction_type')['num_bids'].count()"
   ]
  },
  {
   "cell_type": "code",
   "execution_count": 77,
   "metadata": {},
   "outputs": [
    {
     "data": {
      "text/plain": [
       "auction_type\n",
       "3 day auction    2019\n",
       "5 day auction    1617\n",
       "7 day auction    7025\n",
       "Name: num_bids, dtype: int64"
      ]
     },
     "execution_count": 77,
     "metadata": {},
     "output_type": "execute_result"
    }
   ],
   "source": [
    "#total number of bids for each auction type \n",
    "num_bids.groupby('auction_type')['num_bids'].sum()"
   ]
  },
  {
   "cell_type": "code",
   "execution_count": 78,
   "metadata": {},
   "outputs": [
    {
     "data": {
      "text/plain": [
       "auction_type\n",
       "3 day auction    13.641892\n",
       "5 day auction    16.843750\n",
       "7 day auction    18.342037\n",
       "Name: num_bids, dtype: float64"
      ]
     },
     "execution_count": 78,
     "metadata": {},
     "output_type": "execute_result"
    }
   ],
   "source": [
    "#averge number of bids for each type of auctions \n",
    "num_bids.groupby('auction_type')['num_bids'].sum()/num_bids.groupby('auction_type')['num_bids'].count()"
   ]
  },
  {
   "cell_type": "markdown",
   "metadata": {},
   "source": [
    "**We can see that auctions with longer days available have more bids on average. **\n",
    "\n",
    ">Is longer auction time positively correlated with more bids for each type of items?"
   ]
  },
  {
   "cell_type": "code",
   "execution_count": 79,
   "metadata": {},
   "outputs": [],
   "source": [
    "ave_bids=num_bids.groupby(['auction_type','item'])['num_bids'].sum()/num_bids.groupby(['auction_type','item'])['num_bids'].count()"
   ]
  },
  {
   "cell_type": "code",
   "execution_count": 80,
   "metadata": {},
   "outputs": [],
   "source": [
    "ave_bids=ave_bids.to_frame()"
   ]
  },
  {
   "cell_type": "code",
   "execution_count": 81,
   "metadata": {},
   "outputs": [
    {
     "data": {
      "text/html": [
       "<div>\n",
       "<style scoped>\n",
       "    .dataframe tbody tr th:only-of-type {\n",
       "        vertical-align: middle;\n",
       "    }\n",
       "\n",
       "    .dataframe tbody tr th {\n",
       "        vertical-align: top;\n",
       "    }\n",
       "\n",
       "    .dataframe thead th {\n",
       "        text-align: right;\n",
       "    }\n",
       "</style>\n",
       "<table border=\"1\" class=\"dataframe\">\n",
       "  <thead>\n",
       "    <tr style=\"text-align: right;\">\n",
       "      <th></th>\n",
       "      <th></th>\n",
       "      <th>num_bids</th>\n",
       "    </tr>\n",
       "    <tr>\n",
       "      <th>auction_type</th>\n",
       "      <th>item</th>\n",
       "      <th></th>\n",
       "    </tr>\n",
       "  </thead>\n",
       "  <tbody>\n",
       "    <tr>\n",
       "      <th rowspan=\"3\" valign=\"top\">3 day auction</th>\n",
       "      <th>Cartier wristwatch</th>\n",
       "      <td>13.888889</td>\n",
       "    </tr>\n",
       "    <tr>\n",
       "      <th>Palm Pilot M515 PDA</th>\n",
       "      <td>12.800000</td>\n",
       "    </tr>\n",
       "    <tr>\n",
       "      <th>Xbox game console</th>\n",
       "      <td>15.800000</td>\n",
       "    </tr>\n",
       "    <tr>\n",
       "      <th rowspan=\"3\" valign=\"top\">5 day auction</th>\n",
       "      <th>Cartier wristwatch</th>\n",
       "      <td>16.904762</td>\n",
       "    </tr>\n",
       "    <tr>\n",
       "      <th>Palm Pilot M515 PDA</th>\n",
       "      <td>16.092593</td>\n",
       "    </tr>\n",
       "    <tr>\n",
       "      <th>Xbox game console</th>\n",
       "      <td>18.714286</td>\n",
       "    </tr>\n",
       "    <tr>\n",
       "      <th rowspan=\"3\" valign=\"top\">7 day auction</th>\n",
       "      <th>Cartier wristwatch</th>\n",
       "      <td>14.000000</td>\n",
       "    </tr>\n",
       "    <tr>\n",
       "      <th>Palm Pilot M515 PDA</th>\n",
       "      <td>19.752577</td>\n",
       "    </tr>\n",
       "    <tr>\n",
       "      <th>Xbox game console</th>\n",
       "      <td>19.881720</td>\n",
       "    </tr>\n",
       "  </tbody>\n",
       "</table>\n",
       "</div>"
      ],
      "text/plain": [
       "                                    num_bids\n",
       "auction_type  item                          \n",
       "3 day auction Cartier wristwatch   13.888889\n",
       "              Palm Pilot M515 PDA  12.800000\n",
       "              Xbox game console    15.800000\n",
       "5 day auction Cartier wristwatch   16.904762\n",
       "              Palm Pilot M515 PDA  16.092593\n",
       "              Xbox game console    18.714286\n",
       "7 day auction Cartier wristwatch   14.000000\n",
       "              Palm Pilot M515 PDA  19.752577\n",
       "              Xbox game console    19.881720"
      ]
     },
     "execution_count": 81,
     "metadata": {},
     "output_type": "execute_result"
    }
   ],
   "source": [
    "ave_bids"
   ]
  },
  {
   "cell_type": "code",
   "execution_count": 82,
   "metadata": {},
   "outputs": [
    {
     "data": {
      "text/html": [
       "<div>\n",
       "<style scoped>\n",
       "    .dataframe tbody tr th:only-of-type {\n",
       "        vertical-align: middle;\n",
       "    }\n",
       "\n",
       "    .dataframe tbody tr th {\n",
       "        vertical-align: top;\n",
       "    }\n",
       "\n",
       "    .dataframe thead th {\n",
       "        text-align: right;\n",
       "    }\n",
       "</style>\n",
       "<table border=\"1\" class=\"dataframe\">\n",
       "  <thead>\n",
       "    <tr style=\"text-align: right;\">\n",
       "      <th></th>\n",
       "      <th>auction_type</th>\n",
       "      <th>item</th>\n",
       "      <th>num_bids</th>\n",
       "    </tr>\n",
       "  </thead>\n",
       "  <tbody>\n",
       "    <tr>\n",
       "      <th>0</th>\n",
       "      <td>3 day auction</td>\n",
       "      <td>Cartier wristwatch</td>\n",
       "      <td>13.888889</td>\n",
       "    </tr>\n",
       "    <tr>\n",
       "      <th>1</th>\n",
       "      <td>3 day auction</td>\n",
       "      <td>Palm Pilot M515 PDA</td>\n",
       "      <td>12.800000</td>\n",
       "    </tr>\n",
       "    <tr>\n",
       "      <th>2</th>\n",
       "      <td>3 day auction</td>\n",
       "      <td>Xbox game console</td>\n",
       "      <td>15.800000</td>\n",
       "    </tr>\n",
       "    <tr>\n",
       "      <th>3</th>\n",
       "      <td>5 day auction</td>\n",
       "      <td>Cartier wristwatch</td>\n",
       "      <td>16.904762</td>\n",
       "    </tr>\n",
       "    <tr>\n",
       "      <th>4</th>\n",
       "      <td>5 day auction</td>\n",
       "      <td>Palm Pilot M515 PDA</td>\n",
       "      <td>16.092593</td>\n",
       "    </tr>\n",
       "    <tr>\n",
       "      <th>5</th>\n",
       "      <td>5 day auction</td>\n",
       "      <td>Xbox game console</td>\n",
       "      <td>18.714286</td>\n",
       "    </tr>\n",
       "    <tr>\n",
       "      <th>6</th>\n",
       "      <td>7 day auction</td>\n",
       "      <td>Cartier wristwatch</td>\n",
       "      <td>14.000000</td>\n",
       "    </tr>\n",
       "    <tr>\n",
       "      <th>7</th>\n",
       "      <td>7 day auction</td>\n",
       "      <td>Palm Pilot M515 PDA</td>\n",
       "      <td>19.752577</td>\n",
       "    </tr>\n",
       "    <tr>\n",
       "      <th>8</th>\n",
       "      <td>7 day auction</td>\n",
       "      <td>Xbox game console</td>\n",
       "      <td>19.881720</td>\n",
       "    </tr>\n",
       "  </tbody>\n",
       "</table>\n",
       "</div>"
      ],
      "text/plain": [
       "    auction_type                 item   num_bids\n",
       "0  3 day auction   Cartier wristwatch  13.888889\n",
       "1  3 day auction  Palm Pilot M515 PDA  12.800000\n",
       "2  3 day auction    Xbox game console  15.800000\n",
       "3  5 day auction   Cartier wristwatch  16.904762\n",
       "4  5 day auction  Palm Pilot M515 PDA  16.092593\n",
       "5  5 day auction    Xbox game console  18.714286\n",
       "6  7 day auction   Cartier wristwatch  14.000000\n",
       "7  7 day auction  Palm Pilot M515 PDA  19.752577\n",
       "8  7 day auction    Xbox game console  19.881720"
      ]
     },
     "execution_count": 82,
     "metadata": {},
     "output_type": "execute_result"
    }
   ],
   "source": [
    "ave_bids1=ave_bids.reset_index(level=['auction_type','item'])\n",
    "ave_bids1"
   ]
  },
  {
   "cell_type": "code",
   "execution_count": 84,
   "metadata": {},
   "outputs": [
    {
     "data": {
      "text/plain": [
       "item\n",
       "Cartier wristwatch      2.924246\n",
       "Palm Pilot M515 PDA    12.095831\n",
       "Xbox game console       4.419401\n",
       "Name: num_bids, dtype: float64"
      ]
     },
     "execution_count": 84,
     "metadata": {},
     "output_type": "execute_result"
    }
   ],
   "source": [
    "ave_bids1.groupby(['item'])['num_bids'].var()"
   ]
  },
  {
   "cell_type": "markdown",
   "metadata": {},
   "source": [
    "**For Palm Pilot and Xbox console, a longer auction time is correlated with more bids, while for Cartier wristwatch, a longer auction does not necessarily correlated with more bids.**"
   ]
  },
  {
   "cell_type": "markdown",
   "metadata": {},
   "source": [
    "## Part 4 Conclusion\n",
    ">Based on the analysis above, we can conclude that in general, a lower open bid and longer auction time can attract more bids on an auction.\n",
    "\n",
    ">However, if we take a deeper look into cases for different types of items, we can find that the relation between open bid, auction time and number of bids is not that strong (or even do not hold) for items like Cartier wristwatch.\n",
    "\n",
    "### Possible explanation\n",
    "\n",
    ">One possible explanation for this is the chareristics of different types of items. For items like Cartier wristwatch, which has a high disperse distribution of mean and median for both open bid and close price, these items sold on eBay are more likely to be rare and exclusive. Therefore, even if it's set at a high open bid and have limited auction price, it may still have quite a few bids.\n",
    "\n",
    ">For items like Palm Pilot and Xbox game consoles, (I assume that) they are much less likely to be limited editions since the data are collected from a book published in 2010(http://www.modelingonlineauctions.com/home), Palm Pilot and Xbox game consoles were very unlikely to be rare products in the market. Therefore, the market for these products are more competitive and thus people like to bid on products with lower open bid.\n",
    "\n",
    "### Tips for sellers on eBay\n",
    "\n",
    "    -If you are selling a product that's hard to be found on the market and it has great collection value, you don't need to worry much that setting it at a high open bid and limited amount of aution time will scare potential customers away.\n",
    "\n",
    "    -If you are selling a product which has quite a few substitues in the market, set it at a low open bid and make it a 7 day auction. You will attract more bidders by doing this. Since the market is competitive, I believe you won't end up having an unsatisfactory price."
   ]
  },
  {
   "cell_type": "code",
   "execution_count": null,
   "metadata": {},
   "outputs": [],
   "source": []
  }
 ],
 "metadata": {
  "kernelspec": {
   "display_name": "Python 3",
   "language": "python",
   "name": "python3"
  },
  "language_info": {
   "codemirror_mode": {
    "name": "ipython",
    "version": 3
   },
   "file_extension": ".py",
   "mimetype": "text/x-python",
   "name": "python",
   "nbconvert_exporter": "python",
   "pygments_lexer": "ipython3",
   "version": "3.6.5"
  }
 },
 "nbformat": 4,
 "nbformat_minor": 2
}
